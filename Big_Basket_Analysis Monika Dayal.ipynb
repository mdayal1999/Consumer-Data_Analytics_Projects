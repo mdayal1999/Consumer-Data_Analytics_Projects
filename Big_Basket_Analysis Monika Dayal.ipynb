{
 "cells": [
  {
   "cell_type": "markdown",
   "id": "1ea0b20c-a69f-4130-981a-bf457fdf4369",
   "metadata": {},
   "source": [
    "# Big_Basket_Analysis"
   ]
  },
  {
   "cell_type": "markdown",
   "id": "33e98202-9dd1-4394-8721-eebaace807cb",
   "metadata": {},
   "source": [
    "# Introduction"
   ]
  },
  {
   "cell_type": "markdown",
   "id": "cb5715dc-b922-4f6e-b566-b43e96441c88",
   "metadata": {},
   "source": [
    "- This project focuses on exploratory data analysis (EDA) of a product dataset from Big Basket, one of India's leading online grocery platforms. Using Python and libraries such as Pandas, Seaborn, and Matplotlib, the goal was to clean and analyze product-related data — including categories, brands, pricing, ratings, and availability. Key steps included handling missing values, identifying top-selling and highest-rated products, and visualizing discount patterns across brands and categories. The analysis provides valuable business insights into pricing strategies, customer preferences, and brand performance, helping to support data-driven decisions for e-commerce optimization."
   ]
  },
  {
   "cell_type": "markdown",
   "id": "cef4d8ee-574c-4762-8fa4-cf68c4759494",
   "metadata": {},
   "source": [
    "# Objective"
   ]
  },
  {
   "cell_type": "markdown",
   "id": "fa5b5577-910e-4bb5-b972-098f76f39cdf",
   "metadata": {},
   "source": [
    "- The objective of this project is to analyze and extract meaningful insights from Big Basket's product data. By performing data cleaning, handling missing values, and visualizing key metrics such as pricing, ratings, and brand performance, the goal is to understand customer trends, identify top-performing products, and uncover pricing or discount strategies. This analysis aims to support data-driven decision-making for enhancing product visibility, optimizing pricing, and improving customer satisfaction on the Big Basket platform."
   ]
  },
  {
   "cell_type": "code",
   "execution_count": 2,
   "id": "29ab93da-a37d-4a5c-9c42-487c8fe1baed",
   "metadata": {},
   "outputs": [],
   "source": [
    "import pandas as pd\n",
    "import numpy as np\n",
    "import matplotlib.pyplot as plt\n",
    "import seaborn as sns\n",
    "import warnings\n",
    "warnings.filterwarnings('ignore')"
   ]
  },
  {
   "cell_type": "code",
   "execution_count": 4,
   "id": "4c8b7821-9863-4cd0-82fb-4fd0700c0adb",
   "metadata": {},
   "outputs": [],
   "source": [
    "df = pd.read_csv('BigBasket Products.csv')"
   ]
  },
  {
   "cell_type": "code",
   "execution_count": 6,
   "id": "11f929f7-349b-41e3-9990-8c2333872a9d",
   "metadata": {},
   "outputs": [
    {
     "data": {
      "text/html": [
       "<div>\n",
       "<style scoped>\n",
       "    .dataframe tbody tr th:only-of-type {\n",
       "        vertical-align: middle;\n",
       "    }\n",
       "\n",
       "    .dataframe tbody tr th {\n",
       "        vertical-align: top;\n",
       "    }\n",
       "\n",
       "    .dataframe thead th {\n",
       "        text-align: right;\n",
       "    }\n",
       "</style>\n",
       "<table border=\"1\" class=\"dataframe\">\n",
       "  <thead>\n",
       "    <tr style=\"text-align: right;\">\n",
       "      <th></th>\n",
       "      <th>index</th>\n",
       "      <th>product</th>\n",
       "      <th>category</th>\n",
       "      <th>sub_category</th>\n",
       "      <th>brand</th>\n",
       "      <th>sale_price</th>\n",
       "      <th>market_price</th>\n",
       "      <th>type</th>\n",
       "      <th>rating</th>\n",
       "      <th>description</th>\n",
       "    </tr>\n",
       "  </thead>\n",
       "  <tbody>\n",
       "    <tr>\n",
       "      <th>0</th>\n",
       "      <td>1</td>\n",
       "      <td>Garlic Oil - Vegetarian Capsule 500 mg</td>\n",
       "      <td>Beauty &amp; Hygiene</td>\n",
       "      <td>Hair Care</td>\n",
       "      <td>Sri Sri Ayurveda</td>\n",
       "      <td>220.00</td>\n",
       "      <td>220.0</td>\n",
       "      <td>Hair Oil &amp; Serum</td>\n",
       "      <td>4.1</td>\n",
       "      <td>This Product contains Garlic Oil that is known...</td>\n",
       "    </tr>\n",
       "    <tr>\n",
       "      <th>1</th>\n",
       "      <td>2</td>\n",
       "      <td>Water Bottle - Orange</td>\n",
       "      <td>Kitchen, Garden &amp; Pets</td>\n",
       "      <td>Storage &amp; Accessories</td>\n",
       "      <td>Mastercook</td>\n",
       "      <td>180.00</td>\n",
       "      <td>180.0</td>\n",
       "      <td>Water &amp; Fridge Bottles</td>\n",
       "      <td>2.3</td>\n",
       "      <td>Each product is microwave safe (without lid), ...</td>\n",
       "    </tr>\n",
       "    <tr>\n",
       "      <th>2</th>\n",
       "      <td>3</td>\n",
       "      <td>Brass Angle Deep - Plain, No.2</td>\n",
       "      <td>Cleaning &amp; Household</td>\n",
       "      <td>Pooja Needs</td>\n",
       "      <td>Trm</td>\n",
       "      <td>119.00</td>\n",
       "      <td>250.0</td>\n",
       "      <td>Lamp &amp; Lamp Oil</td>\n",
       "      <td>3.4</td>\n",
       "      <td>A perfect gift for all occasions, be it your m...</td>\n",
       "    </tr>\n",
       "    <tr>\n",
       "      <th>3</th>\n",
       "      <td>4</td>\n",
       "      <td>Cereal Flip Lid Container/Storage Jar - Assort...</td>\n",
       "      <td>Cleaning &amp; Household</td>\n",
       "      <td>Bins &amp; Bathroom Ware</td>\n",
       "      <td>Nakoda</td>\n",
       "      <td>149.00</td>\n",
       "      <td>176.0</td>\n",
       "      <td>Laundry, Storage Baskets</td>\n",
       "      <td>3.7</td>\n",
       "      <td>Multipurpose container with an attractive desi...</td>\n",
       "    </tr>\n",
       "    <tr>\n",
       "      <th>4</th>\n",
       "      <td>5</td>\n",
       "      <td>Creme Soft Soap - For Hands &amp; Body</td>\n",
       "      <td>Beauty &amp; Hygiene</td>\n",
       "      <td>Bath &amp; Hand Wash</td>\n",
       "      <td>Nivea</td>\n",
       "      <td>162.00</td>\n",
       "      <td>162.0</td>\n",
       "      <td>Bathing Bars &amp; Soaps</td>\n",
       "      <td>4.4</td>\n",
       "      <td>Nivea Creme Soft Soap gives your skin the best...</td>\n",
       "    </tr>\n",
       "    <tr>\n",
       "      <th>...</th>\n",
       "      <td>...</td>\n",
       "      <td>...</td>\n",
       "      <td>...</td>\n",
       "      <td>...</td>\n",
       "      <td>...</td>\n",
       "      <td>...</td>\n",
       "      <td>...</td>\n",
       "      <td>...</td>\n",
       "      <td>...</td>\n",
       "      <td>...</td>\n",
       "    </tr>\n",
       "    <tr>\n",
       "      <th>27550</th>\n",
       "      <td>27551</td>\n",
       "      <td>Wottagirl! Perfume Spray - Heaven, Classic</td>\n",
       "      <td>Beauty &amp; Hygiene</td>\n",
       "      <td>Fragrances &amp; Deos</td>\n",
       "      <td>Layerr</td>\n",
       "      <td>199.20</td>\n",
       "      <td>249.0</td>\n",
       "      <td>Perfume</td>\n",
       "      <td>3.9</td>\n",
       "      <td>Layerr brings you Wottagirl Classic fragrant b...</td>\n",
       "    </tr>\n",
       "    <tr>\n",
       "      <th>27551</th>\n",
       "      <td>27552</td>\n",
       "      <td>Rosemary</td>\n",
       "      <td>Gourmet &amp; World Food</td>\n",
       "      <td>Cooking &amp; Baking Needs</td>\n",
       "      <td>Puramate</td>\n",
       "      <td>67.50</td>\n",
       "      <td>75.0</td>\n",
       "      <td>Herbs, Seasonings &amp; Rubs</td>\n",
       "      <td>4.0</td>\n",
       "      <td>Puramate rosemary is enough to transform a dis...</td>\n",
       "    </tr>\n",
       "    <tr>\n",
       "      <th>27552</th>\n",
       "      <td>27553</td>\n",
       "      <td>Peri-Peri Sweet Potato Chips</td>\n",
       "      <td>Gourmet &amp; World Food</td>\n",
       "      <td>Snacks, Dry Fruits, Nuts</td>\n",
       "      <td>FabBox</td>\n",
       "      <td>200.00</td>\n",
       "      <td>200.0</td>\n",
       "      <td>Nachos &amp; Chips</td>\n",
       "      <td>3.8</td>\n",
       "      <td>We have taken the richness of Sweet Potatoes (...</td>\n",
       "    </tr>\n",
       "    <tr>\n",
       "      <th>27553</th>\n",
       "      <td>27554</td>\n",
       "      <td>Green Tea - Pure Original</td>\n",
       "      <td>Beverages</td>\n",
       "      <td>Tea</td>\n",
       "      <td>Tetley</td>\n",
       "      <td>396.00</td>\n",
       "      <td>495.0</td>\n",
       "      <td>Tea Bags</td>\n",
       "      <td>4.2</td>\n",
       "      <td>Tetley Green Tea with its refreshing pure, ori...</td>\n",
       "    </tr>\n",
       "    <tr>\n",
       "      <th>27554</th>\n",
       "      <td>27555</td>\n",
       "      <td>United Dreams Go Far Deodorant</td>\n",
       "      <td>Beauty &amp; Hygiene</td>\n",
       "      <td>Men's Grooming</td>\n",
       "      <td>United Colors Of Benetton</td>\n",
       "      <td>214.53</td>\n",
       "      <td>390.0</td>\n",
       "      <td>Men's Deodorants</td>\n",
       "      <td>4.5</td>\n",
       "      <td>The new mens fragrance from the United Dreams ...</td>\n",
       "    </tr>\n",
       "  </tbody>\n",
       "</table>\n",
       "<p>27555 rows × 10 columns</p>\n",
       "</div>"
      ],
      "text/plain": [
       "       index                                            product  \\\n",
       "0          1             Garlic Oil - Vegetarian Capsule 500 mg   \n",
       "1          2                              Water Bottle - Orange   \n",
       "2          3                     Brass Angle Deep - Plain, No.2   \n",
       "3          4  Cereal Flip Lid Container/Storage Jar - Assort...   \n",
       "4          5                 Creme Soft Soap - For Hands & Body   \n",
       "...      ...                                                ...   \n",
       "27550  27551         Wottagirl! Perfume Spray - Heaven, Classic   \n",
       "27551  27552                                           Rosemary   \n",
       "27552  27553                       Peri-Peri Sweet Potato Chips   \n",
       "27553  27554                          Green Tea - Pure Original   \n",
       "27554  27555                     United Dreams Go Far Deodorant   \n",
       "\n",
       "                     category              sub_category  \\\n",
       "0            Beauty & Hygiene                 Hair Care   \n",
       "1      Kitchen, Garden & Pets     Storage & Accessories   \n",
       "2        Cleaning & Household               Pooja Needs   \n",
       "3        Cleaning & Household      Bins & Bathroom Ware   \n",
       "4            Beauty & Hygiene          Bath & Hand Wash   \n",
       "...                       ...                       ...   \n",
       "27550        Beauty & Hygiene         Fragrances & Deos   \n",
       "27551    Gourmet & World Food    Cooking & Baking Needs   \n",
       "27552    Gourmet & World Food  Snacks, Dry Fruits, Nuts   \n",
       "27553               Beverages                       Tea   \n",
       "27554        Beauty & Hygiene            Men's Grooming   \n",
       "\n",
       "                            brand  sale_price  market_price  \\\n",
       "0               Sri Sri Ayurveda       220.00         220.0   \n",
       "1                      Mastercook      180.00         180.0   \n",
       "2                             Trm      119.00         250.0   \n",
       "3                          Nakoda      149.00         176.0   \n",
       "4                           Nivea      162.00         162.0   \n",
       "...                           ...         ...           ...   \n",
       "27550                      Layerr      199.20         249.0   \n",
       "27551                    Puramate       67.50          75.0   \n",
       "27552                      FabBox      200.00         200.0   \n",
       "27553                      Tetley      396.00         495.0   \n",
       "27554  United Colors Of Benetton       214.53         390.0   \n",
       "\n",
       "                           type  rating  \\\n",
       "0              Hair Oil & Serum     4.1   \n",
       "1        Water & Fridge Bottles     2.3   \n",
       "2               Lamp & Lamp Oil     3.4   \n",
       "3      Laundry, Storage Baskets     3.7   \n",
       "4          Bathing Bars & Soaps     4.4   \n",
       "...                         ...     ...   \n",
       "27550                   Perfume     3.9   \n",
       "27551  Herbs, Seasonings & Rubs     4.0   \n",
       "27552            Nachos & Chips     3.8   \n",
       "27553                  Tea Bags     4.2   \n",
       "27554          Men's Deodorants     4.5   \n",
       "\n",
       "                                             description  \n",
       "0      This Product contains Garlic Oil that is known...  \n",
       "1      Each product is microwave safe (without lid), ...  \n",
       "2      A perfect gift for all occasions, be it your m...  \n",
       "3      Multipurpose container with an attractive desi...  \n",
       "4      Nivea Creme Soft Soap gives your skin the best...  \n",
       "...                                                  ...  \n",
       "27550  Layerr brings you Wottagirl Classic fragrant b...  \n",
       "27551  Puramate rosemary is enough to transform a dis...  \n",
       "27552  We have taken the richness of Sweet Potatoes (...  \n",
       "27553  Tetley Green Tea with its refreshing pure, ori...  \n",
       "27554  The new mens fragrance from the United Dreams ...  \n",
       "\n",
       "[27555 rows x 10 columns]"
      ]
     },
     "execution_count": 6,
     "metadata": {},
     "output_type": "execute_result"
    }
   ],
   "source": [
    "df"
   ]
  },
  {
   "cell_type": "code",
   "execution_count": 8,
   "id": "b792972f-4ffd-46b7-980a-ad33eff3ce1c",
   "metadata": {},
   "outputs": [
    {
     "data": {
      "text/html": [
       "<div>\n",
       "<style scoped>\n",
       "    .dataframe tbody tr th:only-of-type {\n",
       "        vertical-align: middle;\n",
       "    }\n",
       "\n",
       "    .dataframe tbody tr th {\n",
       "        vertical-align: top;\n",
       "    }\n",
       "\n",
       "    .dataframe thead th {\n",
       "        text-align: right;\n",
       "    }\n",
       "</style>\n",
       "<table border=\"1\" class=\"dataframe\">\n",
       "  <thead>\n",
       "    <tr style=\"text-align: right;\">\n",
       "      <th></th>\n",
       "      <th>index</th>\n",
       "      <th>product</th>\n",
       "      <th>category</th>\n",
       "      <th>sub_category</th>\n",
       "      <th>brand</th>\n",
       "      <th>sale_price</th>\n",
       "      <th>market_price</th>\n",
       "      <th>type</th>\n",
       "      <th>rating</th>\n",
       "      <th>description</th>\n",
       "    </tr>\n",
       "  </thead>\n",
       "  <tbody>\n",
       "    <tr>\n",
       "      <th>count</th>\n",
       "      <td>27555.00000</td>\n",
       "      <td>27554</td>\n",
       "      <td>27555</td>\n",
       "      <td>27555</td>\n",
       "      <td>27554</td>\n",
       "      <td>27549.000000</td>\n",
       "      <td>27555.000000</td>\n",
       "      <td>27555</td>\n",
       "      <td>18919.000000</td>\n",
       "      <td>27440</td>\n",
       "    </tr>\n",
       "    <tr>\n",
       "      <th>unique</th>\n",
       "      <td>NaN</td>\n",
       "      <td>23540</td>\n",
       "      <td>11</td>\n",
       "      <td>90</td>\n",
       "      <td>2313</td>\n",
       "      <td>NaN</td>\n",
       "      <td>NaN</td>\n",
       "      <td>426</td>\n",
       "      <td>NaN</td>\n",
       "      <td>21944</td>\n",
       "    </tr>\n",
       "    <tr>\n",
       "      <th>top</th>\n",
       "      <td>NaN</td>\n",
       "      <td>Turmeric Powder/Arisina Pudi</td>\n",
       "      <td>Beauty &amp; Hygiene</td>\n",
       "      <td>Skin Care</td>\n",
       "      <td>Fresho</td>\n",
       "      <td>NaN</td>\n",
       "      <td>NaN</td>\n",
       "      <td>Face Care</td>\n",
       "      <td>NaN</td>\n",
       "      <td>A brand inspired by the Greek goddess of victo...</td>\n",
       "    </tr>\n",
       "    <tr>\n",
       "      <th>freq</th>\n",
       "      <td>NaN</td>\n",
       "      <td>26</td>\n",
       "      <td>7867</td>\n",
       "      <td>2294</td>\n",
       "      <td>638</td>\n",
       "      <td>NaN</td>\n",
       "      <td>NaN</td>\n",
       "      <td>1508</td>\n",
       "      <td>NaN</td>\n",
       "      <td>47</td>\n",
       "    </tr>\n",
       "    <tr>\n",
       "      <th>mean</th>\n",
       "      <td>13778.00000</td>\n",
       "      <td>NaN</td>\n",
       "      <td>NaN</td>\n",
       "      <td>NaN</td>\n",
       "      <td>NaN</td>\n",
       "      <td>334.648391</td>\n",
       "      <td>382.056664</td>\n",
       "      <td>NaN</td>\n",
       "      <td>3.943295</td>\n",
       "      <td>NaN</td>\n",
       "    </tr>\n",
       "    <tr>\n",
       "      <th>std</th>\n",
       "      <td>7954.58767</td>\n",
       "      <td>NaN</td>\n",
       "      <td>NaN</td>\n",
       "      <td>NaN</td>\n",
       "      <td>NaN</td>\n",
       "      <td>1202.102113</td>\n",
       "      <td>581.730717</td>\n",
       "      <td>NaN</td>\n",
       "      <td>0.739217</td>\n",
       "      <td>NaN</td>\n",
       "    </tr>\n",
       "    <tr>\n",
       "      <th>min</th>\n",
       "      <td>1.00000</td>\n",
       "      <td>NaN</td>\n",
       "      <td>NaN</td>\n",
       "      <td>NaN</td>\n",
       "      <td>NaN</td>\n",
       "      <td>2.450000</td>\n",
       "      <td>3.000000</td>\n",
       "      <td>NaN</td>\n",
       "      <td>1.000000</td>\n",
       "      <td>NaN</td>\n",
       "    </tr>\n",
       "    <tr>\n",
       "      <th>25%</th>\n",
       "      <td>6889.50000</td>\n",
       "      <td>NaN</td>\n",
       "      <td>NaN</td>\n",
       "      <td>NaN</td>\n",
       "      <td>NaN</td>\n",
       "      <td>95.000000</td>\n",
       "      <td>100.000000</td>\n",
       "      <td>NaN</td>\n",
       "      <td>3.700000</td>\n",
       "      <td>NaN</td>\n",
       "    </tr>\n",
       "    <tr>\n",
       "      <th>50%</th>\n",
       "      <td>13778.00000</td>\n",
       "      <td>NaN</td>\n",
       "      <td>NaN</td>\n",
       "      <td>NaN</td>\n",
       "      <td>NaN</td>\n",
       "      <td>190.320000</td>\n",
       "      <td>220.000000</td>\n",
       "      <td>NaN</td>\n",
       "      <td>4.100000</td>\n",
       "      <td>NaN</td>\n",
       "    </tr>\n",
       "    <tr>\n",
       "      <th>75%</th>\n",
       "      <td>20666.50000</td>\n",
       "      <td>NaN</td>\n",
       "      <td>NaN</td>\n",
       "      <td>NaN</td>\n",
       "      <td>NaN</td>\n",
       "      <td>359.000000</td>\n",
       "      <td>425.000000</td>\n",
       "      <td>NaN</td>\n",
       "      <td>4.300000</td>\n",
       "      <td>NaN</td>\n",
       "    </tr>\n",
       "    <tr>\n",
       "      <th>max</th>\n",
       "      <td>27555.00000</td>\n",
       "      <td>NaN</td>\n",
       "      <td>NaN</td>\n",
       "      <td>NaN</td>\n",
       "      <td>NaN</td>\n",
       "      <td>112475.000000</td>\n",
       "      <td>12500.000000</td>\n",
       "      <td>NaN</td>\n",
       "      <td>5.000000</td>\n",
       "      <td>NaN</td>\n",
       "    </tr>\n",
       "  </tbody>\n",
       "</table>\n",
       "</div>"
      ],
      "text/plain": [
       "              index                       product          category  \\\n",
       "count   27555.00000                         27554             27555   \n",
       "unique          NaN                         23540                11   \n",
       "top             NaN  Turmeric Powder/Arisina Pudi  Beauty & Hygiene   \n",
       "freq            NaN                            26              7867   \n",
       "mean    13778.00000                           NaN               NaN   \n",
       "std      7954.58767                           NaN               NaN   \n",
       "min         1.00000                           NaN               NaN   \n",
       "25%      6889.50000                           NaN               NaN   \n",
       "50%     13778.00000                           NaN               NaN   \n",
       "75%     20666.50000                           NaN               NaN   \n",
       "max     27555.00000                           NaN               NaN   \n",
       "\n",
       "       sub_category   brand     sale_price  market_price       type  \\\n",
       "count         27555   27554   27549.000000  27555.000000      27555   \n",
       "unique           90    2313            NaN           NaN        426   \n",
       "top       Skin Care  Fresho            NaN           NaN  Face Care   \n",
       "freq           2294     638            NaN           NaN       1508   \n",
       "mean            NaN     NaN     334.648391    382.056664        NaN   \n",
       "std             NaN     NaN    1202.102113    581.730717        NaN   \n",
       "min             NaN     NaN       2.450000      3.000000        NaN   \n",
       "25%             NaN     NaN      95.000000    100.000000        NaN   \n",
       "50%             NaN     NaN     190.320000    220.000000        NaN   \n",
       "75%             NaN     NaN     359.000000    425.000000        NaN   \n",
       "max             NaN     NaN  112475.000000  12500.000000        NaN   \n",
       "\n",
       "              rating                                        description  \n",
       "count   18919.000000                                              27440  \n",
       "unique           NaN                                              21944  \n",
       "top              NaN  A brand inspired by the Greek goddess of victo...  \n",
       "freq             NaN                                                 47  \n",
       "mean        3.943295                                                NaN  \n",
       "std         0.739217                                                NaN  \n",
       "min         1.000000                                                NaN  \n",
       "25%         3.700000                                                NaN  \n",
       "50%         4.100000                                                NaN  \n",
       "75%         4.300000                                                NaN  \n",
       "max         5.000000                                                NaN  "
      ]
     },
     "execution_count": 8,
     "metadata": {},
     "output_type": "execute_result"
    }
   ],
   "source": [
    "df.describe(include = 'all')"
   ]
  },
  {
   "cell_type": "markdown",
   "id": "051158f6-a27b-4ea7-99aa-75c71a04c83f",
   "metadata": {},
   "source": [
    "- The output of df.describe(include='all') provides a comprehensive overview of the dataset, summarizing both numerical and categorical features. It highlights the distribution of key columns such as sale_price, market_price, and rating, revealing central tendencies, variability, and potential outliers. For categorical features like product, category, and brand, it shows the number of unique values, most frequent entries, and their frequencies, offering insight into product diversity and dominant brands. This summary helps identify data quality issues, understand overall trends, and guides further exploration."
   ]
  },
  {
   "cell_type": "code",
   "execution_count": 10,
   "id": "34044d5d-bba5-49b8-9546-0c06cb6f6976",
   "metadata": {},
   "outputs": [
    {
     "name": "stdout",
     "output_type": "stream",
     "text": [
      "<class 'pandas.core.frame.DataFrame'>\n",
      "RangeIndex: 27555 entries, 0 to 27554\n",
      "Data columns (total 10 columns):\n",
      " #   Column        Non-Null Count  Dtype  \n",
      "---  ------        --------------  -----  \n",
      " 0   index         27555 non-null  int64  \n",
      " 1   product       27554 non-null  object \n",
      " 2   category      27555 non-null  object \n",
      " 3   sub_category  27555 non-null  object \n",
      " 4   brand         27554 non-null  object \n",
      " 5   sale_price    27549 non-null  float64\n",
      " 6   market_price  27555 non-null  float64\n",
      " 7   type          27555 non-null  object \n",
      " 8   rating        18919 non-null  float64\n",
      " 9   description   27440 non-null  object \n",
      "dtypes: float64(3), int64(1), object(6)\n",
      "memory usage: 2.1+ MB\n"
     ]
    }
   ],
   "source": [
    "df.info()"
   ]
  },
  {
   "cell_type": "code",
   "execution_count": 12,
   "id": "57a73690-0414-4f7c-8b9d-01331aa58df9",
   "metadata": {},
   "outputs": [
    {
     "data": {
      "text/plain": [
       "0"
      ]
     },
     "execution_count": 12,
     "metadata": {},
     "output_type": "execute_result"
    }
   ],
   "source": [
    "df.duplicated().sum()"
   ]
  },
  {
   "cell_type": "code",
   "execution_count": 14,
   "id": "8fcc91c4-0822-422a-8210-fc4bf4338cfc",
   "metadata": {},
   "outputs": [
    {
     "data": {
      "text/html": [
       "<div>\n",
       "<style scoped>\n",
       "    .dataframe tbody tr th:only-of-type {\n",
       "        vertical-align: middle;\n",
       "    }\n",
       "\n",
       "    .dataframe tbody tr th {\n",
       "        vertical-align: top;\n",
       "    }\n",
       "\n",
       "    .dataframe thead th {\n",
       "        text-align: right;\n",
       "    }\n",
       "</style>\n",
       "<table border=\"1\" class=\"dataframe\">\n",
       "  <thead>\n",
       "    <tr style=\"text-align: right;\">\n",
       "      <th></th>\n",
       "      <th>index</th>\n",
       "      <th>product</th>\n",
       "      <th>category</th>\n",
       "      <th>sub_category</th>\n",
       "      <th>brand</th>\n",
       "      <th>sale_price</th>\n",
       "      <th>market_price</th>\n",
       "      <th>type</th>\n",
       "      <th>rating</th>\n",
       "      <th>description</th>\n",
       "    </tr>\n",
       "  </thead>\n",
       "  <tbody>\n",
       "    <tr>\n",
       "      <th>0</th>\n",
       "      <td>1</td>\n",
       "      <td>Garlic Oil - Vegetarian Capsule 500 mg</td>\n",
       "      <td>Beauty &amp; Hygiene</td>\n",
       "      <td>Hair Care</td>\n",
       "      <td>Sri Sri Ayurveda</td>\n",
       "      <td>220.0</td>\n",
       "      <td>220.0</td>\n",
       "      <td>Hair Oil &amp; Serum</td>\n",
       "      <td>4.1</td>\n",
       "      <td>This Product contains Garlic Oil that is known...</td>\n",
       "    </tr>\n",
       "    <tr>\n",
       "      <th>1</th>\n",
       "      <td>2</td>\n",
       "      <td>Water Bottle - Orange</td>\n",
       "      <td>Kitchen, Garden &amp; Pets</td>\n",
       "      <td>Storage &amp; Accessories</td>\n",
       "      <td>Mastercook</td>\n",
       "      <td>180.0</td>\n",
       "      <td>180.0</td>\n",
       "      <td>Water &amp; Fridge Bottles</td>\n",
       "      <td>2.3</td>\n",
       "      <td>Each product is microwave safe (without lid), ...</td>\n",
       "    </tr>\n",
       "    <tr>\n",
       "      <th>2</th>\n",
       "      <td>3</td>\n",
       "      <td>Brass Angle Deep - Plain, No.2</td>\n",
       "      <td>Cleaning &amp; Household</td>\n",
       "      <td>Pooja Needs</td>\n",
       "      <td>Trm</td>\n",
       "      <td>119.0</td>\n",
       "      <td>250.0</td>\n",
       "      <td>Lamp &amp; Lamp Oil</td>\n",
       "      <td>3.4</td>\n",
       "      <td>A perfect gift for all occasions, be it your m...</td>\n",
       "    </tr>\n",
       "    <tr>\n",
       "      <th>3</th>\n",
       "      <td>4</td>\n",
       "      <td>Cereal Flip Lid Container/Storage Jar - Assort...</td>\n",
       "      <td>Cleaning &amp; Household</td>\n",
       "      <td>Bins &amp; Bathroom Ware</td>\n",
       "      <td>Nakoda</td>\n",
       "      <td>149.0</td>\n",
       "      <td>176.0</td>\n",
       "      <td>Laundry, Storage Baskets</td>\n",
       "      <td>3.7</td>\n",
       "      <td>Multipurpose container with an attractive desi...</td>\n",
       "    </tr>\n",
       "    <tr>\n",
       "      <th>4</th>\n",
       "      <td>5</td>\n",
       "      <td>Creme Soft Soap - For Hands &amp; Body</td>\n",
       "      <td>Beauty &amp; Hygiene</td>\n",
       "      <td>Bath &amp; Hand Wash</td>\n",
       "      <td>Nivea</td>\n",
       "      <td>162.0</td>\n",
       "      <td>162.0</td>\n",
       "      <td>Bathing Bars &amp; Soaps</td>\n",
       "      <td>4.4</td>\n",
       "      <td>Nivea Creme Soft Soap gives your skin the best...</td>\n",
       "    </tr>\n",
       "    <tr>\n",
       "      <th>5</th>\n",
       "      <td>6</td>\n",
       "      <td>Germ - Removal Multipurpose Wipes</td>\n",
       "      <td>Cleaning &amp; Household</td>\n",
       "      <td>All Purpose Cleaners</td>\n",
       "      <td>Nature Protect</td>\n",
       "      <td>169.0</td>\n",
       "      <td>199.0</td>\n",
       "      <td>Disinfectant Spray &amp; Cleaners</td>\n",
       "      <td>3.3</td>\n",
       "      <td>Stay protected from contamination with Multipu...</td>\n",
       "    </tr>\n",
       "    <tr>\n",
       "      <th>6</th>\n",
       "      <td>7</td>\n",
       "      <td>Multani Mati</td>\n",
       "      <td>Beauty &amp; Hygiene</td>\n",
       "      <td>Skin Care</td>\n",
       "      <td>Satinance</td>\n",
       "      <td>58.0</td>\n",
       "      <td>58.0</td>\n",
       "      <td>Face Care</td>\n",
       "      <td>3.6</td>\n",
       "      <td>Satinance multani matti is an excellent skin t...</td>\n",
       "    </tr>\n",
       "    <tr>\n",
       "      <th>7</th>\n",
       "      <td>8</td>\n",
       "      <td>Hand Sanitizer - 70% Alcohol Base</td>\n",
       "      <td>Beauty &amp; Hygiene</td>\n",
       "      <td>Bath &amp; Hand Wash</td>\n",
       "      <td>Bionova</td>\n",
       "      <td>250.0</td>\n",
       "      <td>250.0</td>\n",
       "      <td>Hand Wash &amp; Sanitizers</td>\n",
       "      <td>4.0</td>\n",
       "      <td>70%Alcohol based is gentle of hand leaves skin...</td>\n",
       "    </tr>\n",
       "    <tr>\n",
       "      <th>8</th>\n",
       "      <td>9</td>\n",
       "      <td>Biotin &amp; Collagen Volumizing Hair Shampoo + Bi...</td>\n",
       "      <td>Beauty &amp; Hygiene</td>\n",
       "      <td>Hair Care</td>\n",
       "      <td>StBotanica</td>\n",
       "      <td>1098.0</td>\n",
       "      <td>1098.0</td>\n",
       "      <td>Shampoo &amp; Conditioner</td>\n",
       "      <td>3.5</td>\n",
       "      <td>An exclusive blend with Vitamin B7 Biotin, Hyd...</td>\n",
       "    </tr>\n",
       "    <tr>\n",
       "      <th>9</th>\n",
       "      <td>10</td>\n",
       "      <td>Scrub Pad - Anti- Bacterial, Regular</td>\n",
       "      <td>Cleaning &amp; Household</td>\n",
       "      <td>Mops, Brushes &amp; Scrubs</td>\n",
       "      <td>Scotch brite</td>\n",
       "      <td>20.0</td>\n",
       "      <td>20.0</td>\n",
       "      <td>Utensil Scrub-Pad, Glove</td>\n",
       "      <td>4.3</td>\n",
       "      <td>Scotch Brite Anti- Bacterial Scrub Pad thoroug...</td>\n",
       "    </tr>\n",
       "    <tr>\n",
       "      <th>10</th>\n",
       "      <td>11</td>\n",
       "      <td>Wheat Grass Powder - Raw</td>\n",
       "      <td>Gourmet &amp; World Food</td>\n",
       "      <td>Cooking &amp; Baking Needs</td>\n",
       "      <td>NUTRASHIL</td>\n",
       "      <td>261.0</td>\n",
       "      <td>290.0</td>\n",
       "      <td>Flours &amp; Pre-Mixes</td>\n",
       "      <td>4.0</td>\n",
       "      <td>Wheatgrass is a superfood potent health food w...</td>\n",
       "    </tr>\n",
       "    <tr>\n",
       "      <th>11</th>\n",
       "      <td>12</td>\n",
       "      <td>Butter Cookies Gold Collection</td>\n",
       "      <td>Gourmet &amp; World Food</td>\n",
       "      <td>Chocolates &amp; Biscuits</td>\n",
       "      <td>Sapphire</td>\n",
       "      <td>600.0</td>\n",
       "      <td>600.0</td>\n",
       "      <td>Luxury Chocolates, Gifts</td>\n",
       "      <td>2.2</td>\n",
       "      <td>Enjoy a tin full of delicious butter cookies m...</td>\n",
       "    </tr>\n",
       "  </tbody>\n",
       "</table>\n",
       "</div>"
      ],
      "text/plain": [
       "    index                                            product  \\\n",
       "0       1             Garlic Oil - Vegetarian Capsule 500 mg   \n",
       "1       2                              Water Bottle - Orange   \n",
       "2       3                     Brass Angle Deep - Plain, No.2   \n",
       "3       4  Cereal Flip Lid Container/Storage Jar - Assort...   \n",
       "4       5                 Creme Soft Soap - For Hands & Body   \n",
       "5       6                  Germ - Removal Multipurpose Wipes   \n",
       "6       7                                       Multani Mati   \n",
       "7       8                  Hand Sanitizer - 70% Alcohol Base   \n",
       "8       9  Biotin & Collagen Volumizing Hair Shampoo + Bi...   \n",
       "9      10               Scrub Pad - Anti- Bacterial, Regular   \n",
       "10     11                           Wheat Grass Powder - Raw   \n",
       "11     12                     Butter Cookies Gold Collection   \n",
       "\n",
       "                  category            sub_category              brand  \\\n",
       "0         Beauty & Hygiene               Hair Care  Sri Sri Ayurveda    \n",
       "1   Kitchen, Garden & Pets   Storage & Accessories         Mastercook   \n",
       "2     Cleaning & Household             Pooja Needs                Trm   \n",
       "3     Cleaning & Household    Bins & Bathroom Ware             Nakoda   \n",
       "4         Beauty & Hygiene        Bath & Hand Wash              Nivea   \n",
       "5     Cleaning & Household    All Purpose Cleaners     Nature Protect   \n",
       "6         Beauty & Hygiene               Skin Care          Satinance   \n",
       "7         Beauty & Hygiene        Bath & Hand Wash            Bionova   \n",
       "8         Beauty & Hygiene               Hair Care         StBotanica   \n",
       "9     Cleaning & Household  Mops, Brushes & Scrubs       Scotch brite   \n",
       "10    Gourmet & World Food  Cooking & Baking Needs          NUTRASHIL   \n",
       "11    Gourmet & World Food   Chocolates & Biscuits           Sapphire   \n",
       "\n",
       "    sale_price  market_price                           type  rating  \\\n",
       "0        220.0         220.0               Hair Oil & Serum     4.1   \n",
       "1        180.0         180.0         Water & Fridge Bottles     2.3   \n",
       "2        119.0         250.0                Lamp & Lamp Oil     3.4   \n",
       "3        149.0         176.0       Laundry, Storage Baskets     3.7   \n",
       "4        162.0         162.0           Bathing Bars & Soaps     4.4   \n",
       "5        169.0         199.0  Disinfectant Spray & Cleaners     3.3   \n",
       "6         58.0          58.0                      Face Care     3.6   \n",
       "7        250.0         250.0         Hand Wash & Sanitizers     4.0   \n",
       "8       1098.0        1098.0          Shampoo & Conditioner     3.5   \n",
       "9         20.0          20.0       Utensil Scrub-Pad, Glove     4.3   \n",
       "10       261.0         290.0             Flours & Pre-Mixes     4.0   \n",
       "11       600.0         600.0       Luxury Chocolates, Gifts     2.2   \n",
       "\n",
       "                                          description  \n",
       "0   This Product contains Garlic Oil that is known...  \n",
       "1   Each product is microwave safe (without lid), ...  \n",
       "2   A perfect gift for all occasions, be it your m...  \n",
       "3   Multipurpose container with an attractive desi...  \n",
       "4   Nivea Creme Soft Soap gives your skin the best...  \n",
       "5   Stay protected from contamination with Multipu...  \n",
       "6   Satinance multani matti is an excellent skin t...  \n",
       "7   70%Alcohol based is gentle of hand leaves skin...  \n",
       "8   An exclusive blend with Vitamin B7 Biotin, Hyd...  \n",
       "9   Scotch Brite Anti- Bacterial Scrub Pad thoroug...  \n",
       "10  Wheatgrass is a superfood potent health food w...  \n",
       "11  Enjoy a tin full of delicious butter cookies m...  "
      ]
     },
     "execution_count": 14,
     "metadata": {},
     "output_type": "execute_result"
    }
   ],
   "source": [
    "df.head(12)"
   ]
  },
  {
   "cell_type": "markdown",
   "id": "12944b41-9047-4f12-917a-4d604398e2ce",
   "metadata": {},
   "source": [
    "# Dropping Column which is not required"
   ]
  },
  {
   "cell_type": "code",
   "execution_count": 16,
   "id": "2fdee507-c972-4e0e-863d-d5fcb62e997c",
   "metadata": {},
   "outputs": [],
   "source": [
    "df.drop('index',axis=1,inplace=True)"
   ]
  },
  {
   "cell_type": "code",
   "execution_count": 18,
   "id": "37b52e01-a0a1-40ea-b4b3-b55a9836a9da",
   "metadata": {},
   "outputs": [
    {
     "data": {
      "text/plain": [
       "product\n",
       "Turmeric Powder/Arisina Pudi                                              26\n",
       "Extra Virgin Olive Oil                                                    15\n",
       "Cow Ghee/Tuppa                                                            14\n",
       "Olive Oil - Extra Virgin                                                  12\n",
       "Soft Drink                                                                12\n",
       "                                                                          ..\n",
       "Germ Removal Detergent                                                     1\n",
       "Germ Protection Soap                                                       1\n",
       "Germ Protection Multipurpose Thick & Soft Wet Wipes with Fliptop Lid       1\n",
       "Germ Protection Kit - Soap, Handwash, Hand Sanitizer & Germ Kill Spray     1\n",
       "pasta shell                                                                1\n",
       "Name: count, Length: 23540, dtype: int64"
      ]
     },
     "execution_count": 18,
     "metadata": {},
     "output_type": "execute_result"
    }
   ],
   "source": [
    "df.value_counts('product')"
   ]
  },
  {
   "cell_type": "markdown",
   "id": "21a92fc6-96ee-4a68-8973-a335ba942386",
   "metadata": {},
   "source": [
    "- we can say that \"Turmeric Powder/Arisina Pudi\" are top selling products as it has more no of value counts and similarly \"pasta shell\" are least sold product"
   ]
  },
  {
   "cell_type": "code",
   "execution_count": 21,
   "id": "9c1d703f-27ff-48f1-a7fb-0082d2363c3e",
   "metadata": {},
   "outputs": [],
   "source": [
    "df['Discount'] = df.market_price - df.sale_price"
   ]
  },
  {
   "cell_type": "code",
   "execution_count": 23,
   "id": "0bb21e0c-80ba-40f3-b94d-af5b9d495edb",
   "metadata": {},
   "outputs": [
    {
     "data": {
      "text/html": [
       "<div>\n",
       "<style scoped>\n",
       "    .dataframe tbody tr th:only-of-type {\n",
       "        vertical-align: middle;\n",
       "    }\n",
       "\n",
       "    .dataframe tbody tr th {\n",
       "        vertical-align: top;\n",
       "    }\n",
       "\n",
       "    .dataframe thead th {\n",
       "        text-align: right;\n",
       "    }\n",
       "</style>\n",
       "<table border=\"1\" class=\"dataframe\">\n",
       "  <thead>\n",
       "    <tr style=\"text-align: right;\">\n",
       "      <th></th>\n",
       "      <th>product</th>\n",
       "      <th>category</th>\n",
       "      <th>sub_category</th>\n",
       "      <th>brand</th>\n",
       "      <th>sale_price</th>\n",
       "      <th>market_price</th>\n",
       "      <th>type</th>\n",
       "      <th>rating</th>\n",
       "      <th>description</th>\n",
       "      <th>Discount</th>\n",
       "    </tr>\n",
       "  </thead>\n",
       "  <tbody>\n",
       "    <tr>\n",
       "      <th>0</th>\n",
       "      <td>Garlic Oil - Vegetarian Capsule 500 mg</td>\n",
       "      <td>Beauty &amp; Hygiene</td>\n",
       "      <td>Hair Care</td>\n",
       "      <td>Sri Sri Ayurveda</td>\n",
       "      <td>220.00</td>\n",
       "      <td>220.0</td>\n",
       "      <td>Hair Oil &amp; Serum</td>\n",
       "      <td>4.1</td>\n",
       "      <td>This Product contains Garlic Oil that is known...</td>\n",
       "      <td>0.00</td>\n",
       "    </tr>\n",
       "    <tr>\n",
       "      <th>1</th>\n",
       "      <td>Water Bottle - Orange</td>\n",
       "      <td>Kitchen, Garden &amp; Pets</td>\n",
       "      <td>Storage &amp; Accessories</td>\n",
       "      <td>Mastercook</td>\n",
       "      <td>180.00</td>\n",
       "      <td>180.0</td>\n",
       "      <td>Water &amp; Fridge Bottles</td>\n",
       "      <td>2.3</td>\n",
       "      <td>Each product is microwave safe (without lid), ...</td>\n",
       "      <td>0.00</td>\n",
       "    </tr>\n",
       "    <tr>\n",
       "      <th>2</th>\n",
       "      <td>Brass Angle Deep - Plain, No.2</td>\n",
       "      <td>Cleaning &amp; Household</td>\n",
       "      <td>Pooja Needs</td>\n",
       "      <td>Trm</td>\n",
       "      <td>119.00</td>\n",
       "      <td>250.0</td>\n",
       "      <td>Lamp &amp; Lamp Oil</td>\n",
       "      <td>3.4</td>\n",
       "      <td>A perfect gift for all occasions, be it your m...</td>\n",
       "      <td>131.00</td>\n",
       "    </tr>\n",
       "    <tr>\n",
       "      <th>3</th>\n",
       "      <td>Cereal Flip Lid Container/Storage Jar - Assort...</td>\n",
       "      <td>Cleaning &amp; Household</td>\n",
       "      <td>Bins &amp; Bathroom Ware</td>\n",
       "      <td>Nakoda</td>\n",
       "      <td>149.00</td>\n",
       "      <td>176.0</td>\n",
       "      <td>Laundry, Storage Baskets</td>\n",
       "      <td>3.7</td>\n",
       "      <td>Multipurpose container with an attractive desi...</td>\n",
       "      <td>27.00</td>\n",
       "    </tr>\n",
       "    <tr>\n",
       "      <th>4</th>\n",
       "      <td>Creme Soft Soap - For Hands &amp; Body</td>\n",
       "      <td>Beauty &amp; Hygiene</td>\n",
       "      <td>Bath &amp; Hand Wash</td>\n",
       "      <td>Nivea</td>\n",
       "      <td>162.00</td>\n",
       "      <td>162.0</td>\n",
       "      <td>Bathing Bars &amp; Soaps</td>\n",
       "      <td>4.4</td>\n",
       "      <td>Nivea Creme Soft Soap gives your skin the best...</td>\n",
       "      <td>0.00</td>\n",
       "    </tr>\n",
       "    <tr>\n",
       "      <th>...</th>\n",
       "      <td>...</td>\n",
       "      <td>...</td>\n",
       "      <td>...</td>\n",
       "      <td>...</td>\n",
       "      <td>...</td>\n",
       "      <td>...</td>\n",
       "      <td>...</td>\n",
       "      <td>...</td>\n",
       "      <td>...</td>\n",
       "      <td>...</td>\n",
       "    </tr>\n",
       "    <tr>\n",
       "      <th>27550</th>\n",
       "      <td>Wottagirl! Perfume Spray - Heaven, Classic</td>\n",
       "      <td>Beauty &amp; Hygiene</td>\n",
       "      <td>Fragrances &amp; Deos</td>\n",
       "      <td>Layerr</td>\n",
       "      <td>199.20</td>\n",
       "      <td>249.0</td>\n",
       "      <td>Perfume</td>\n",
       "      <td>3.9</td>\n",
       "      <td>Layerr brings you Wottagirl Classic fragrant b...</td>\n",
       "      <td>49.80</td>\n",
       "    </tr>\n",
       "    <tr>\n",
       "      <th>27551</th>\n",
       "      <td>Rosemary</td>\n",
       "      <td>Gourmet &amp; World Food</td>\n",
       "      <td>Cooking &amp; Baking Needs</td>\n",
       "      <td>Puramate</td>\n",
       "      <td>67.50</td>\n",
       "      <td>75.0</td>\n",
       "      <td>Herbs, Seasonings &amp; Rubs</td>\n",
       "      <td>4.0</td>\n",
       "      <td>Puramate rosemary is enough to transform a dis...</td>\n",
       "      <td>7.50</td>\n",
       "    </tr>\n",
       "    <tr>\n",
       "      <th>27552</th>\n",
       "      <td>Peri-Peri Sweet Potato Chips</td>\n",
       "      <td>Gourmet &amp; World Food</td>\n",
       "      <td>Snacks, Dry Fruits, Nuts</td>\n",
       "      <td>FabBox</td>\n",
       "      <td>200.00</td>\n",
       "      <td>200.0</td>\n",
       "      <td>Nachos &amp; Chips</td>\n",
       "      <td>3.8</td>\n",
       "      <td>We have taken the richness of Sweet Potatoes (...</td>\n",
       "      <td>0.00</td>\n",
       "    </tr>\n",
       "    <tr>\n",
       "      <th>27553</th>\n",
       "      <td>Green Tea - Pure Original</td>\n",
       "      <td>Beverages</td>\n",
       "      <td>Tea</td>\n",
       "      <td>Tetley</td>\n",
       "      <td>396.00</td>\n",
       "      <td>495.0</td>\n",
       "      <td>Tea Bags</td>\n",
       "      <td>4.2</td>\n",
       "      <td>Tetley Green Tea with its refreshing pure, ori...</td>\n",
       "      <td>99.00</td>\n",
       "    </tr>\n",
       "    <tr>\n",
       "      <th>27554</th>\n",
       "      <td>United Dreams Go Far Deodorant</td>\n",
       "      <td>Beauty &amp; Hygiene</td>\n",
       "      <td>Men's Grooming</td>\n",
       "      <td>United Colors Of Benetton</td>\n",
       "      <td>214.53</td>\n",
       "      <td>390.0</td>\n",
       "      <td>Men's Deodorants</td>\n",
       "      <td>4.5</td>\n",
       "      <td>The new mens fragrance from the United Dreams ...</td>\n",
       "      <td>175.47</td>\n",
       "    </tr>\n",
       "  </tbody>\n",
       "</table>\n",
       "<p>27555 rows × 10 columns</p>\n",
       "</div>"
      ],
      "text/plain": [
       "                                                 product  \\\n",
       "0                 Garlic Oil - Vegetarian Capsule 500 mg   \n",
       "1                                  Water Bottle - Orange   \n",
       "2                         Brass Angle Deep - Plain, No.2   \n",
       "3      Cereal Flip Lid Container/Storage Jar - Assort...   \n",
       "4                     Creme Soft Soap - For Hands & Body   \n",
       "...                                                  ...   \n",
       "27550         Wottagirl! Perfume Spray - Heaven, Classic   \n",
       "27551                                           Rosemary   \n",
       "27552                       Peri-Peri Sweet Potato Chips   \n",
       "27553                          Green Tea - Pure Original   \n",
       "27554                     United Dreams Go Far Deodorant   \n",
       "\n",
       "                     category              sub_category  \\\n",
       "0            Beauty & Hygiene                 Hair Care   \n",
       "1      Kitchen, Garden & Pets     Storage & Accessories   \n",
       "2        Cleaning & Household               Pooja Needs   \n",
       "3        Cleaning & Household      Bins & Bathroom Ware   \n",
       "4            Beauty & Hygiene          Bath & Hand Wash   \n",
       "...                       ...                       ...   \n",
       "27550        Beauty & Hygiene         Fragrances & Deos   \n",
       "27551    Gourmet & World Food    Cooking & Baking Needs   \n",
       "27552    Gourmet & World Food  Snacks, Dry Fruits, Nuts   \n",
       "27553               Beverages                       Tea   \n",
       "27554        Beauty & Hygiene            Men's Grooming   \n",
       "\n",
       "                            brand  sale_price  market_price  \\\n",
       "0               Sri Sri Ayurveda       220.00         220.0   \n",
       "1                      Mastercook      180.00         180.0   \n",
       "2                             Trm      119.00         250.0   \n",
       "3                          Nakoda      149.00         176.0   \n",
       "4                           Nivea      162.00         162.0   \n",
       "...                           ...         ...           ...   \n",
       "27550                      Layerr      199.20         249.0   \n",
       "27551                    Puramate       67.50          75.0   \n",
       "27552                      FabBox      200.00         200.0   \n",
       "27553                      Tetley      396.00         495.0   \n",
       "27554  United Colors Of Benetton       214.53         390.0   \n",
       "\n",
       "                           type  rating  \\\n",
       "0              Hair Oil & Serum     4.1   \n",
       "1        Water & Fridge Bottles     2.3   \n",
       "2               Lamp & Lamp Oil     3.4   \n",
       "3      Laundry, Storage Baskets     3.7   \n",
       "4          Bathing Bars & Soaps     4.4   \n",
       "...                         ...     ...   \n",
       "27550                   Perfume     3.9   \n",
       "27551  Herbs, Seasonings & Rubs     4.0   \n",
       "27552            Nachos & Chips     3.8   \n",
       "27553                  Tea Bags     4.2   \n",
       "27554          Men's Deodorants     4.5   \n",
       "\n",
       "                                             description  Discount  \n",
       "0      This Product contains Garlic Oil that is known...      0.00  \n",
       "1      Each product is microwave safe (without lid), ...      0.00  \n",
       "2      A perfect gift for all occasions, be it your m...    131.00  \n",
       "3      Multipurpose container with an attractive desi...     27.00  \n",
       "4      Nivea Creme Soft Soap gives your skin the best...      0.00  \n",
       "...                                                  ...       ...  \n",
       "27550  Layerr brings you Wottagirl Classic fragrant b...     49.80  \n",
       "27551  Puramate rosemary is enough to transform a dis...      7.50  \n",
       "27552  We have taken the richness of Sweet Potatoes (...      0.00  \n",
       "27553  Tetley Green Tea with its refreshing pure, ori...     99.00  \n",
       "27554  The new mens fragrance from the United Dreams ...    175.47  \n",
       "\n",
       "[27555 rows x 10 columns]"
      ]
     },
     "execution_count": 23,
     "metadata": {},
     "output_type": "execute_result"
    }
   ],
   "source": [
    "df"
   ]
  },
  {
   "cell_type": "code",
   "execution_count": 25,
   "id": "0c70b69a-ff0e-499e-bea5-c7a997076b43",
   "metadata": {},
   "outputs": [
    {
     "data": {
      "text/plain": [
       "product            1\n",
       "category           0\n",
       "sub_category       0\n",
       "brand              1\n",
       "sale_price         6\n",
       "market_price       0\n",
       "type               0\n",
       "rating          8636\n",
       "description      115\n",
       "Discount           6\n",
       "dtype: int64"
      ]
     },
     "execution_count": 25,
     "metadata": {},
     "output_type": "execute_result"
    }
   ],
   "source": [
    "df.isnull().sum()"
   ]
  },
  {
   "cell_type": "code",
   "execution_count": 27,
   "id": "bd3f3814-77b8-458c-b8e0-41be8dffc636",
   "metadata": {},
   "outputs": [
    {
     "data": {
      "text/html": [
       "<div>\n",
       "<style scoped>\n",
       "    .dataframe tbody tr th:only-of-type {\n",
       "        vertical-align: middle;\n",
       "    }\n",
       "\n",
       "    .dataframe tbody tr th {\n",
       "        vertical-align: top;\n",
       "    }\n",
       "\n",
       "    .dataframe thead th {\n",
       "        text-align: right;\n",
       "    }\n",
       "</style>\n",
       "<table border=\"1\" class=\"dataframe\">\n",
       "  <thead>\n",
       "    <tr style=\"text-align: right;\">\n",
       "      <th></th>\n",
       "      <th>product</th>\n",
       "      <th>category</th>\n",
       "      <th>sub_category</th>\n",
       "      <th>brand</th>\n",
       "      <th>sale_price</th>\n",
       "      <th>market_price</th>\n",
       "      <th>type</th>\n",
       "      <th>rating</th>\n",
       "      <th>description</th>\n",
       "      <th>Discount</th>\n",
       "    </tr>\n",
       "  </thead>\n",
       "  <tbody>\n",
       "    <tr>\n",
       "      <th>14363</th>\n",
       "      <td>NaN</td>\n",
       "      <td>Beverages</td>\n",
       "      <td>Coffee</td>\n",
       "      <td>Cothas Coffee</td>\n",
       "      <td>200.0</td>\n",
       "      <td>240.0</td>\n",
       "      <td>Ground Coffee</td>\n",
       "      <td>4.2</td>\n",
       "      <td>Cothas Specialty Blend Coffee and Chicory incl...</td>\n",
       "      <td>40.0</td>\n",
       "    </tr>\n",
       "  </tbody>\n",
       "</table>\n",
       "</div>"
      ],
      "text/plain": [
       "      product   category sub_category          brand  sale_price  \\\n",
       "14363     NaN  Beverages       Coffee  Cothas Coffee       200.0   \n",
       "\n",
       "       market_price           type  rating  \\\n",
       "14363         240.0  Ground Coffee     4.2   \n",
       "\n",
       "                                             description  Discount  \n",
       "14363  Cothas Specialty Blend Coffee and Chicory incl...      40.0  "
      ]
     },
     "execution_count": 27,
     "metadata": {},
     "output_type": "execute_result"
    }
   ],
   "source": [
    "df[df['product'].isnull()]"
   ]
  },
  {
   "cell_type": "code",
   "execution_count": 29,
   "id": "dbc33c15-4866-4ee6-a97b-5925a1dc47a7",
   "metadata": {},
   "outputs": [
    {
     "data": {
      "text/html": [
       "<div>\n",
       "<style scoped>\n",
       "    .dataframe tbody tr th:only-of-type {\n",
       "        vertical-align: middle;\n",
       "    }\n",
       "\n",
       "    .dataframe tbody tr th {\n",
       "        vertical-align: top;\n",
       "    }\n",
       "\n",
       "    .dataframe thead th {\n",
       "        text-align: right;\n",
       "    }\n",
       "</style>\n",
       "<table border=\"1\" class=\"dataframe\">\n",
       "  <thead>\n",
       "    <tr style=\"text-align: right;\">\n",
       "      <th></th>\n",
       "      <th>product</th>\n",
       "      <th>category</th>\n",
       "      <th>sub_category</th>\n",
       "      <th>brand</th>\n",
       "      <th>sale_price</th>\n",
       "      <th>market_price</th>\n",
       "      <th>type</th>\n",
       "      <th>rating</th>\n",
       "      <th>description</th>\n",
       "      <th>Discount</th>\n",
       "    </tr>\n",
       "  </thead>\n",
       "  <tbody>\n",
       "    <tr>\n",
       "      <th>9380</th>\n",
       "      <td>Coffee - Powder, Extra Strong</td>\n",
       "      <td>Beverages</td>\n",
       "      <td>Coffee</td>\n",
       "      <td>Cothas Coffee</td>\n",
       "      <td>74.0</td>\n",
       "      <td>74.0</td>\n",
       "      <td>Ground Coffee</td>\n",
       "      <td>4.2</td>\n",
       "      <td>Cothas Extra Strong Coffee Powder is an Instan...</td>\n",
       "      <td>0.0</td>\n",
       "    </tr>\n",
       "    <tr>\n",
       "      <th>10655</th>\n",
       "      <td>Coffee - Powder, Premium Special</td>\n",
       "      <td>Beverages</td>\n",
       "      <td>Coffee</td>\n",
       "      <td>Cothas Coffee</td>\n",
       "      <td>210.0</td>\n",
       "      <td>210.0</td>\n",
       "      <td>Ground Coffee</td>\n",
       "      <td>4.2</td>\n",
       "      <td>Cothas coffee offers you with finest of both t...</td>\n",
       "      <td>0.0</td>\n",
       "    </tr>\n",
       "    <tr>\n",
       "      <th>12376</th>\n",
       "      <td>Coffee - Powder, Pure Filter, Nova Therm</td>\n",
       "      <td>Beverages</td>\n",
       "      <td>Coffee</td>\n",
       "      <td>Cothas Coffee</td>\n",
       "      <td>280.0</td>\n",
       "      <td>280.0</td>\n",
       "      <td>Ground Coffee</td>\n",
       "      <td>4.1</td>\n",
       "      <td>Made with an innovative thermal manufacturing ...</td>\n",
       "      <td>0.0</td>\n",
       "    </tr>\n",
       "    <tr>\n",
       "      <th>14363</th>\n",
       "      <td>NaN</td>\n",
       "      <td>Beverages</td>\n",
       "      <td>Coffee</td>\n",
       "      <td>Cothas Coffee</td>\n",
       "      <td>200.0</td>\n",
       "      <td>240.0</td>\n",
       "      <td>Ground Coffee</td>\n",
       "      <td>4.2</td>\n",
       "      <td>Cothas Specialty Blend Coffee and Chicory incl...</td>\n",
       "      <td>40.0</td>\n",
       "    </tr>\n",
       "    <tr>\n",
       "      <th>17127</th>\n",
       "      <td>Coffee - Powder, Premium Blended</td>\n",
       "      <td>Beverages</td>\n",
       "      <td>Coffee</td>\n",
       "      <td>Cothas Coffee</td>\n",
       "      <td>40.0</td>\n",
       "      <td>40.0</td>\n",
       "      <td>Ground Coffee</td>\n",
       "      <td>4.2</td>\n",
       "      <td>Cothas Premium Special Coffee Powder offers th...</td>\n",
       "      <td>0.0</td>\n",
       "    </tr>\n",
       "  </tbody>\n",
       "</table>\n",
       "</div>"
      ],
      "text/plain": [
       "                                        product   category sub_category  \\\n",
       "9380              Coffee - Powder, Extra Strong  Beverages       Coffee   \n",
       "10655          Coffee - Powder, Premium Special  Beverages       Coffee   \n",
       "12376  Coffee - Powder, Pure Filter, Nova Therm  Beverages       Coffee   \n",
       "14363                                       NaN  Beverages       Coffee   \n",
       "17127          Coffee - Powder, Premium Blended  Beverages       Coffee   \n",
       "\n",
       "               brand  sale_price  market_price           type  rating  \\\n",
       "9380   Cothas Coffee        74.0          74.0  Ground Coffee     4.2   \n",
       "10655  Cothas Coffee       210.0         210.0  Ground Coffee     4.2   \n",
       "12376  Cothas Coffee       280.0         280.0  Ground Coffee     4.1   \n",
       "14363  Cothas Coffee       200.0         240.0  Ground Coffee     4.2   \n",
       "17127  Cothas Coffee        40.0          40.0  Ground Coffee     4.2   \n",
       "\n",
       "                                             description  Discount  \n",
       "9380   Cothas Extra Strong Coffee Powder is an Instan...       0.0  \n",
       "10655  Cothas coffee offers you with finest of both t...       0.0  \n",
       "12376  Made with an innovative thermal manufacturing ...       0.0  \n",
       "14363  Cothas Specialty Blend Coffee and Chicory incl...      40.0  \n",
       "17127  Cothas Premium Special Coffee Powder offers th...       0.0  "
      ]
     },
     "execution_count": 29,
     "metadata": {},
     "output_type": "execute_result"
    }
   ],
   "source": [
    "df[df.brand == 'Cothas Coffee']"
   ]
  },
  {
   "cell_type": "code",
   "execution_count": 31,
   "id": "9fdee4b4-8474-4b0f-9579-1ad8070b6c39",
   "metadata": {},
   "outputs": [],
   "source": [
    "df['product'] = df['product'].fillna('Unknown')"
   ]
  },
  {
   "cell_type": "code",
   "execution_count": 33,
   "id": "d72ae9c6-150b-49c2-9278-9f8545294c2b",
   "metadata": {},
   "outputs": [
    {
     "data": {
      "text/html": [
       "<div>\n",
       "<style scoped>\n",
       "    .dataframe tbody tr th:only-of-type {\n",
       "        vertical-align: middle;\n",
       "    }\n",
       "\n",
       "    .dataframe tbody tr th {\n",
       "        vertical-align: top;\n",
       "    }\n",
       "\n",
       "    .dataframe thead th {\n",
       "        text-align: right;\n",
       "    }\n",
       "</style>\n",
       "<table border=\"1\" class=\"dataframe\">\n",
       "  <thead>\n",
       "    <tr style=\"text-align: right;\">\n",
       "      <th></th>\n",
       "      <th>product</th>\n",
       "      <th>category</th>\n",
       "      <th>sub_category</th>\n",
       "      <th>brand</th>\n",
       "      <th>sale_price</th>\n",
       "      <th>market_price</th>\n",
       "      <th>type</th>\n",
       "      <th>rating</th>\n",
       "      <th>description</th>\n",
       "      <th>Discount</th>\n",
       "    </tr>\n",
       "  </thead>\n",
       "  <tbody>\n",
       "    <tr>\n",
       "      <th>9380</th>\n",
       "      <td>Coffee - Powder, Extra Strong</td>\n",
       "      <td>Beverages</td>\n",
       "      <td>Coffee</td>\n",
       "      <td>Cothas Coffee</td>\n",
       "      <td>74.0</td>\n",
       "      <td>74.0</td>\n",
       "      <td>Ground Coffee</td>\n",
       "      <td>4.2</td>\n",
       "      <td>Cothas Extra Strong Coffee Powder is an Instan...</td>\n",
       "      <td>0.0</td>\n",
       "    </tr>\n",
       "    <tr>\n",
       "      <th>10655</th>\n",
       "      <td>Coffee - Powder, Premium Special</td>\n",
       "      <td>Beverages</td>\n",
       "      <td>Coffee</td>\n",
       "      <td>Cothas Coffee</td>\n",
       "      <td>210.0</td>\n",
       "      <td>210.0</td>\n",
       "      <td>Ground Coffee</td>\n",
       "      <td>4.2</td>\n",
       "      <td>Cothas coffee offers you with finest of both t...</td>\n",
       "      <td>0.0</td>\n",
       "    </tr>\n",
       "    <tr>\n",
       "      <th>12376</th>\n",
       "      <td>Coffee - Powder, Pure Filter, Nova Therm</td>\n",
       "      <td>Beverages</td>\n",
       "      <td>Coffee</td>\n",
       "      <td>Cothas Coffee</td>\n",
       "      <td>280.0</td>\n",
       "      <td>280.0</td>\n",
       "      <td>Ground Coffee</td>\n",
       "      <td>4.1</td>\n",
       "      <td>Made with an innovative thermal manufacturing ...</td>\n",
       "      <td>0.0</td>\n",
       "    </tr>\n",
       "    <tr>\n",
       "      <th>14363</th>\n",
       "      <td>Unknown</td>\n",
       "      <td>Beverages</td>\n",
       "      <td>Coffee</td>\n",
       "      <td>Cothas Coffee</td>\n",
       "      <td>200.0</td>\n",
       "      <td>240.0</td>\n",
       "      <td>Ground Coffee</td>\n",
       "      <td>4.2</td>\n",
       "      <td>Cothas Specialty Blend Coffee and Chicory incl...</td>\n",
       "      <td>40.0</td>\n",
       "    </tr>\n",
       "    <tr>\n",
       "      <th>17127</th>\n",
       "      <td>Coffee - Powder, Premium Blended</td>\n",
       "      <td>Beverages</td>\n",
       "      <td>Coffee</td>\n",
       "      <td>Cothas Coffee</td>\n",
       "      <td>40.0</td>\n",
       "      <td>40.0</td>\n",
       "      <td>Ground Coffee</td>\n",
       "      <td>4.2</td>\n",
       "      <td>Cothas Premium Special Coffee Powder offers th...</td>\n",
       "      <td>0.0</td>\n",
       "    </tr>\n",
       "  </tbody>\n",
       "</table>\n",
       "</div>"
      ],
      "text/plain": [
       "                                        product   category sub_category  \\\n",
       "9380              Coffee - Powder, Extra Strong  Beverages       Coffee   \n",
       "10655          Coffee - Powder, Premium Special  Beverages       Coffee   \n",
       "12376  Coffee - Powder, Pure Filter, Nova Therm  Beverages       Coffee   \n",
       "14363                                   Unknown  Beverages       Coffee   \n",
       "17127          Coffee - Powder, Premium Blended  Beverages       Coffee   \n",
       "\n",
       "               brand  sale_price  market_price           type  rating  \\\n",
       "9380   Cothas Coffee        74.0          74.0  Ground Coffee     4.2   \n",
       "10655  Cothas Coffee       210.0         210.0  Ground Coffee     4.2   \n",
       "12376  Cothas Coffee       280.0         280.0  Ground Coffee     4.1   \n",
       "14363  Cothas Coffee       200.0         240.0  Ground Coffee     4.2   \n",
       "17127  Cothas Coffee        40.0          40.0  Ground Coffee     4.2   \n",
       "\n",
       "                                             description  Discount  \n",
       "9380   Cothas Extra Strong Coffee Powder is an Instan...       0.0  \n",
       "10655  Cothas coffee offers you with finest of both t...       0.0  \n",
       "12376  Made with an innovative thermal manufacturing ...       0.0  \n",
       "14363  Cothas Specialty Blend Coffee and Chicory incl...      40.0  \n",
       "17127  Cothas Premium Special Coffee Powder offers th...       0.0  "
      ]
     },
     "execution_count": 33,
     "metadata": {},
     "output_type": "execute_result"
    }
   ],
   "source": [
    "df[df.brand == 'Cothas Coffee']"
   ]
  },
  {
   "cell_type": "code",
   "execution_count": 35,
   "id": "f51ba12b-a74f-4237-a8fb-c5f221eefba1",
   "metadata": {},
   "outputs": [
    {
     "data": {
      "text/html": [
       "<div>\n",
       "<style scoped>\n",
       "    .dataframe tbody tr th:only-of-type {\n",
       "        vertical-align: middle;\n",
       "    }\n",
       "\n",
       "    .dataframe tbody tr th {\n",
       "        vertical-align: top;\n",
       "    }\n",
       "\n",
       "    .dataframe thead th {\n",
       "        text-align: right;\n",
       "    }\n",
       "</style>\n",
       "<table border=\"1\" class=\"dataframe\">\n",
       "  <thead>\n",
       "    <tr style=\"text-align: right;\">\n",
       "      <th></th>\n",
       "      <th>product</th>\n",
       "      <th>category</th>\n",
       "      <th>sub_category</th>\n",
       "      <th>brand</th>\n",
       "      <th>sale_price</th>\n",
       "      <th>market_price</th>\n",
       "      <th>type</th>\n",
       "      <th>rating</th>\n",
       "      <th>description</th>\n",
       "      <th>Discount</th>\n",
       "    </tr>\n",
       "  </thead>\n",
       "  <tbody>\n",
       "    <tr>\n",
       "      <th>9765</th>\n",
       "      <td>Food Package - Medium</td>\n",
       "      <td>Cleaning &amp; Household</td>\n",
       "      <td>Disposables, Garbage Bag</td>\n",
       "      <td>NaN</td>\n",
       "      <td>50.0</td>\n",
       "      <td>50.0</td>\n",
       "      <td>Aluminium Foil, Clingwrap</td>\n",
       "      <td>NaN</td>\n",
       "      <td>NaN</td>\n",
       "      <td>0.0</td>\n",
       "    </tr>\n",
       "  </tbody>\n",
       "</table>\n",
       "</div>"
      ],
      "text/plain": [
       "                    product              category              sub_category  \\\n",
       "9765  Food Package - Medium  Cleaning & Household  Disposables, Garbage Bag   \n",
       "\n",
       "     brand  sale_price  market_price                       type  rating  \\\n",
       "9765   NaN        50.0          50.0  Aluminium Foil, Clingwrap     NaN   \n",
       "\n",
       "     description  Discount  \n",
       "9765         NaN       0.0  "
      ]
     },
     "execution_count": 35,
     "metadata": {},
     "output_type": "execute_result"
    }
   ],
   "source": [
    "df[df['brand'].isnull()]"
   ]
  },
  {
   "cell_type": "code",
   "execution_count": 37,
   "id": "75ad9811-572e-4afa-902d-2cd2f1927443",
   "metadata": {},
   "outputs": [],
   "source": [
    "df['brand'] = df['brand'].fillna('Unknown')"
   ]
  },
  {
   "cell_type": "code",
   "execution_count": 39,
   "id": "46c11caf-7a31-4324-abc4-dea2f4190575",
   "metadata": {},
   "outputs": [
    {
     "data": {
      "text/html": [
       "<div>\n",
       "<style scoped>\n",
       "    .dataframe tbody tr th:only-of-type {\n",
       "        vertical-align: middle;\n",
       "    }\n",
       "\n",
       "    .dataframe tbody tr th {\n",
       "        vertical-align: top;\n",
       "    }\n",
       "\n",
       "    .dataframe thead th {\n",
       "        text-align: right;\n",
       "    }\n",
       "</style>\n",
       "<table border=\"1\" class=\"dataframe\">\n",
       "  <thead>\n",
       "    <tr style=\"text-align: right;\">\n",
       "      <th></th>\n",
       "      <th>product</th>\n",
       "      <th>category</th>\n",
       "      <th>sub_category</th>\n",
       "      <th>brand</th>\n",
       "      <th>sale_price</th>\n",
       "      <th>market_price</th>\n",
       "      <th>type</th>\n",
       "      <th>rating</th>\n",
       "      <th>description</th>\n",
       "      <th>Discount</th>\n",
       "    </tr>\n",
       "  </thead>\n",
       "  <tbody>\n",
       "    <tr>\n",
       "      <th>1719</th>\n",
       "      <td>Puja Flower Wicks - Puvvu Vathulu Batti</td>\n",
       "      <td>Cleaning &amp; Household</td>\n",
       "      <td>Pooja Needs</td>\n",
       "      <td>Jaji</td>\n",
       "      <td>NaN</td>\n",
       "      <td>20.0</td>\n",
       "      <td>Camphor &amp; Wicks</td>\n",
       "      <td>NaN</td>\n",
       "      <td>Jaji Puja Flower Batti / Puvvu Vathulu is made...</td>\n",
       "      <td>NaN</td>\n",
       "    </tr>\n",
       "    <tr>\n",
       "      <th>1720</th>\n",
       "      <td>Powder - Sambar</td>\n",
       "      <td>Foodgrains, Oil &amp; Masala</td>\n",
       "      <td>Masalas &amp; Spices</td>\n",
       "      <td>Annapoorna</td>\n",
       "      <td>NaN</td>\n",
       "      <td>46.0</td>\n",
       "      <td>Blended Masalas</td>\n",
       "      <td>NaN</td>\n",
       "      <td>Annaporna Spices are the preserve for Connoiss...</td>\n",
       "      <td>NaN</td>\n",
       "    </tr>\n",
       "    <tr>\n",
       "      <th>1721</th>\n",
       "      <td>Steel Fork - Medium, Premium Excel Series, BBCL08</td>\n",
       "      <td>Kitchen, Garden &amp; Pets</td>\n",
       "      <td>Crockery &amp; Cutlery</td>\n",
       "      <td>BB Home</td>\n",
       "      <td>NaN</td>\n",
       "      <td>299.0</td>\n",
       "      <td>Cutlery, Spoon &amp; Fork</td>\n",
       "      <td>NaN</td>\n",
       "      <td>BB Home provides fine and classy cutlery that ...</td>\n",
       "      <td>NaN</td>\n",
       "    </tr>\n",
       "    <tr>\n",
       "      <th>1722</th>\n",
       "      <td>Snack Mix - Dhokla</td>\n",
       "      <td>Snacks &amp; Branded Foods</td>\n",
       "      <td>Ready To Cook &amp; Eat</td>\n",
       "      <td>MTR</td>\n",
       "      <td>NaN</td>\n",
       "      <td>65.0</td>\n",
       "      <td>Breakfast &amp; Snack Mixes</td>\n",
       "      <td>4.1</td>\n",
       "      <td>MTR Dhokla is extremely special in Gujarat. It...</td>\n",
       "      <td>NaN</td>\n",
       "    </tr>\n",
       "    <tr>\n",
       "      <th>2401</th>\n",
       "      <td>Battery AA 3UT Hi Top</td>\n",
       "      <td>Kitchen, Garden &amp; Pets</td>\n",
       "      <td>Appliances &amp; Electricals</td>\n",
       "      <td>Nippo</td>\n",
       "      <td>NaN</td>\n",
       "      <td>150.0</td>\n",
       "      <td>Battery &amp; Electrical</td>\n",
       "      <td>4.0</td>\n",
       "      <td>This Nippo battery incorporates state-of-the-a...</td>\n",
       "      <td>NaN</td>\n",
       "    </tr>\n",
       "    <tr>\n",
       "      <th>2402</th>\n",
       "      <td>Klassic Plain Cocktail Napkins (22 X 22 cm)</td>\n",
       "      <td>Cleaning &amp; Household</td>\n",
       "      <td>Disposables, Garbage Bag</td>\n",
       "      <td>Origami</td>\n",
       "      <td>NaN</td>\n",
       "      <td>32.0</td>\n",
       "      <td>Toilet Paper</td>\n",
       "      <td>3.9</td>\n",
       "      <td>Klassic Plain Cocktail Napkins (22 X 22 cm) 10...</td>\n",
       "      <td>NaN</td>\n",
       "    </tr>\n",
       "  </tbody>\n",
       "</table>\n",
       "</div>"
      ],
      "text/plain": [
       "                                                product  \\\n",
       "1719            Puja Flower Wicks - Puvvu Vathulu Batti   \n",
       "1720                                    Powder - Sambar   \n",
       "1721  Steel Fork - Medium, Premium Excel Series, BBCL08   \n",
       "1722                                 Snack Mix - Dhokla   \n",
       "2401                              Battery AA 3UT Hi Top   \n",
       "2402        Klassic Plain Cocktail Napkins (22 X 22 cm)   \n",
       "\n",
       "                      category              sub_category       brand  \\\n",
       "1719      Cleaning & Household               Pooja Needs        Jaji   \n",
       "1720  Foodgrains, Oil & Masala          Masalas & Spices  Annapoorna   \n",
       "1721    Kitchen, Garden & Pets        Crockery & Cutlery     BB Home   \n",
       "1722    Snacks & Branded Foods       Ready To Cook & Eat         MTR   \n",
       "2401    Kitchen, Garden & Pets  Appliances & Electricals       Nippo   \n",
       "2402      Cleaning & Household  Disposables, Garbage Bag     Origami   \n",
       "\n",
       "      sale_price  market_price                     type  rating  \\\n",
       "1719         NaN          20.0          Camphor & Wicks     NaN   \n",
       "1720         NaN          46.0          Blended Masalas     NaN   \n",
       "1721         NaN         299.0    Cutlery, Spoon & Fork     NaN   \n",
       "1722         NaN          65.0  Breakfast & Snack Mixes     4.1   \n",
       "2401         NaN         150.0     Battery & Electrical     4.0   \n",
       "2402         NaN          32.0             Toilet Paper     3.9   \n",
       "\n",
       "                                            description  Discount  \n",
       "1719  Jaji Puja Flower Batti / Puvvu Vathulu is made...       NaN  \n",
       "1720  Annaporna Spices are the preserve for Connoiss...       NaN  \n",
       "1721  BB Home provides fine and classy cutlery that ...       NaN  \n",
       "1722  MTR Dhokla is extremely special in Gujarat. It...       NaN  \n",
       "2401  This Nippo battery incorporates state-of-the-a...       NaN  \n",
       "2402  Klassic Plain Cocktail Napkins (22 X 22 cm) 10...       NaN  "
      ]
     },
     "execution_count": 39,
     "metadata": {},
     "output_type": "execute_result"
    }
   ],
   "source": [
    "df[df['sale_price'].isnull()]"
   ]
  },
  {
   "cell_type": "code",
   "execution_count": 41,
   "id": "fa5d063a-ef5c-475a-a75f-4c4821951592",
   "metadata": {},
   "outputs": [
    {
     "data": {
      "text/plain": [
       "334.6483912301717"
      ]
     },
     "execution_count": 41,
     "metadata": {},
     "output_type": "execute_result"
    }
   ],
   "source": [
    "df['sale_price'].mean()"
   ]
  },
  {
   "cell_type": "code",
   "execution_count": 43,
   "id": "5d963854-08bf-41a6-9f57-47da16bf4110",
   "metadata": {},
   "outputs": [],
   "source": [
    "df['sale_price'] = df['sale_price'].fillna(df['market_price'])"
   ]
  },
  {
   "cell_type": "code",
   "execution_count": 45,
   "id": "8cfee0b5-db8a-4481-acfb-c8d36a31492f",
   "metadata": {},
   "outputs": [],
   "source": [
    "df['description'] = df['description'].fillna('Unknown')"
   ]
  },
  {
   "cell_type": "code",
   "execution_count": 47,
   "id": "0155b462-c02f-42e9-b0bb-3056e676fb3f",
   "metadata": {},
   "outputs": [
    {
     "data": {
      "text/plain": [
       "product            0\n",
       "category           0\n",
       "sub_category       0\n",
       "brand              0\n",
       "sale_price         0\n",
       "market_price       0\n",
       "type               0\n",
       "rating          8636\n",
       "description        0\n",
       "Discount           6\n",
       "dtype: int64"
      ]
     },
     "execution_count": 47,
     "metadata": {},
     "output_type": "execute_result"
    }
   ],
   "source": [
    "df.isnull().sum()"
   ]
  },
  {
   "cell_type": "code",
   "execution_count": 49,
   "id": "98f0f102-25b1-40bc-9f60-5b6445ffc4a4",
   "metadata": {},
   "outputs": [
    {
     "data": {
      "text/html": [
       "<div>\n",
       "<style scoped>\n",
       "    .dataframe tbody tr th:only-of-type {\n",
       "        vertical-align: middle;\n",
       "    }\n",
       "\n",
       "    .dataframe tbody tr th {\n",
       "        vertical-align: top;\n",
       "    }\n",
       "\n",
       "    .dataframe thead th {\n",
       "        text-align: right;\n",
       "    }\n",
       "</style>\n",
       "<table border=\"1\" class=\"dataframe\">\n",
       "  <thead>\n",
       "    <tr style=\"text-align: right;\">\n",
       "      <th></th>\n",
       "      <th>product</th>\n",
       "      <th>category</th>\n",
       "      <th>sub_category</th>\n",
       "      <th>brand</th>\n",
       "      <th>sale_price</th>\n",
       "      <th>market_price</th>\n",
       "      <th>type</th>\n",
       "      <th>rating</th>\n",
       "      <th>description</th>\n",
       "      <th>Discount</th>\n",
       "    </tr>\n",
       "  </thead>\n",
       "  <tbody>\n",
       "    <tr>\n",
       "      <th>55</th>\n",
       "      <td>Soothing Cucumber Facial Scrub With Apricot Seeds</td>\n",
       "      <td>Beauty &amp; Hygiene</td>\n",
       "      <td>Skin Care</td>\n",
       "      <td>TJORI</td>\n",
       "      <td>299.4</td>\n",
       "      <td>499.0</td>\n",
       "      <td>Face Care</td>\n",
       "      <td>NaN</td>\n",
       "      <td>The soothing feel of cucumber meets the gentle...</td>\n",
       "      <td>199.6</td>\n",
       "    </tr>\n",
       "    <tr>\n",
       "      <th>59</th>\n",
       "      <td>Corporate Planner Diary With Premium PU Leathe...</td>\n",
       "      <td>Cleaning &amp; Household</td>\n",
       "      <td>Stationery</td>\n",
       "      <td>Prozo Plus</td>\n",
       "      <td>399.0</td>\n",
       "      <td>399.0</td>\n",
       "      <td>Notebooks, Files, Folders</td>\n",
       "      <td>NaN</td>\n",
       "      <td>A5 Size (210x150mm) \\n192 Pages Premium Natura...</td>\n",
       "      <td>0.0</td>\n",
       "    </tr>\n",
       "    <tr>\n",
       "      <th>65</th>\n",
       "      <td>Ayurvedic Anti-Tan Face Pack</td>\n",
       "      <td>Beauty &amp; Hygiene</td>\n",
       "      <td>Skin Care</td>\n",
       "      <td>TJORI</td>\n",
       "      <td>269.4</td>\n",
       "      <td>449.0</td>\n",
       "      <td>Face Care</td>\n",
       "      <td>NaN</td>\n",
       "      <td>A nourishing face pack that removes tan and br...</td>\n",
       "      <td>179.6</td>\n",
       "    </tr>\n",
       "    <tr>\n",
       "      <th>68</th>\n",
       "      <td>Organic Carom Seeds/Ajwain/Om Kalu</td>\n",
       "      <td>Foodgrains, Oil &amp; Masala</td>\n",
       "      <td>Masalas &amp; Spices</td>\n",
       "      <td>Earthon</td>\n",
       "      <td>72.0</td>\n",
       "      <td>72.0</td>\n",
       "      <td>Whole Spices</td>\n",
       "      <td>NaN</td>\n",
       "      <td>Earthon's Ajwain is Best quality, organically ...</td>\n",
       "      <td>0.0</td>\n",
       "    </tr>\n",
       "    <tr>\n",
       "      <th>69</th>\n",
       "      <td>Padded Harness - 3/4 inch, Grey Colour</td>\n",
       "      <td>Kitchen, Garden &amp; Pets</td>\n",
       "      <td>Pet Food &amp; Accessories</td>\n",
       "      <td>Glenand</td>\n",
       "      <td>840.0</td>\n",
       "      <td>840.0</td>\n",
       "      <td>Pet Collars &amp; Leashes</td>\n",
       "      <td>NaN</td>\n",
       "      <td>These are soft padded harness for your active ...</td>\n",
       "      <td>0.0</td>\n",
       "    </tr>\n",
       "    <tr>\n",
       "      <th>...</th>\n",
       "      <td>...</td>\n",
       "      <td>...</td>\n",
       "      <td>...</td>\n",
       "      <td>...</td>\n",
       "      <td>...</td>\n",
       "      <td>...</td>\n",
       "      <td>...</td>\n",
       "      <td>...</td>\n",
       "      <td>...</td>\n",
       "      <td>...</td>\n",
       "    </tr>\n",
       "    <tr>\n",
       "      <th>27509</th>\n",
       "      <td>Deluxe Crackers - Veg</td>\n",
       "      <td>Gourmet &amp; World Food</td>\n",
       "      <td>Chocolates &amp; Biscuits</td>\n",
       "      <td>Kerk</td>\n",
       "      <td>150.0</td>\n",
       "      <td>150.0</td>\n",
       "      <td>Cookies, Biscotti, Wafer</td>\n",
       "      <td>NaN</td>\n",
       "      <td>Kerk Biscuits-has been a household name synony...</td>\n",
       "      <td>0.0</td>\n",
       "    </tr>\n",
       "    <tr>\n",
       "      <th>27511</th>\n",
       "      <td>Specialist Stain Remover Pen &amp; Marker</td>\n",
       "      <td>Cleaning &amp; Household</td>\n",
       "      <td>All Purpose Cleaners</td>\n",
       "      <td>365</td>\n",
       "      <td>449.0</td>\n",
       "      <td>449.0</td>\n",
       "      <td>Imported Cleaners</td>\n",
       "      <td>NaN</td>\n",
       "      <td>Mightier than the pen. The pen may be mightier...</td>\n",
       "      <td>0.0</td>\n",
       "    </tr>\n",
       "    <tr>\n",
       "      <th>27514</th>\n",
       "      <td>Verge &amp; Sheer Perfume For Pair</td>\n",
       "      <td>Beauty &amp; Hygiene</td>\n",
       "      <td>Fragrances &amp; Deos</td>\n",
       "      <td>Skinn by Titan</td>\n",
       "      <td>1615.5</td>\n",
       "      <td>1795.0</td>\n",
       "      <td>Perfume</td>\n",
       "      <td>NaN</td>\n",
       "      <td>VERGE for men paints a picture of a classy out...</td>\n",
       "      <td>179.5</td>\n",
       "    </tr>\n",
       "    <tr>\n",
       "      <th>27530</th>\n",
       "      <td>Tick'et to Fleadom Dry Shampoo For Dogs</td>\n",
       "      <td>Kitchen, Garden &amp; Pets</td>\n",
       "      <td>Pet Food &amp; Accessories</td>\n",
       "      <td>Captain Zack</td>\n",
       "      <td>99.0</td>\n",
       "      <td>99.0</td>\n",
       "      <td>Pet Cleaning &amp; Grooming</td>\n",
       "      <td>NaN</td>\n",
       "      <td>1) No Rinse Defence Against Ticks and Fleas: C...</td>\n",
       "      <td>0.0</td>\n",
       "    </tr>\n",
       "    <tr>\n",
       "      <th>27531</th>\n",
       "      <td>Vanilla Ice Cream</td>\n",
       "      <td>Gourmet &amp; World Food</td>\n",
       "      <td>Dairy &amp; Cheese</td>\n",
       "      <td>Haagen-Dazs</td>\n",
       "      <td>225.0</td>\n",
       "      <td>225.0</td>\n",
       "      <td>Gourmet Ice Cream</td>\n",
       "      <td>NaN</td>\n",
       "      <td>Some things are so good in their simplest form...</td>\n",
       "      <td>0.0</td>\n",
       "    </tr>\n",
       "  </tbody>\n",
       "</table>\n",
       "<p>8636 rows × 10 columns</p>\n",
       "</div>"
      ],
      "text/plain": [
       "                                                 product  \\\n",
       "55     Soothing Cucumber Facial Scrub With Apricot Seeds   \n",
       "59     Corporate Planner Diary With Premium PU Leathe...   \n",
       "65                          Ayurvedic Anti-Tan Face Pack   \n",
       "68                    Organic Carom Seeds/Ajwain/Om Kalu   \n",
       "69                Padded Harness - 3/4 inch, Grey Colour   \n",
       "...                                                  ...   \n",
       "27509                              Deluxe Crackers - Veg   \n",
       "27511              Specialist Stain Remover Pen & Marker   \n",
       "27514                     Verge & Sheer Perfume For Pair   \n",
       "27530            Tick'et to Fleadom Dry Shampoo For Dogs   \n",
       "27531                                  Vanilla Ice Cream   \n",
       "\n",
       "                       category            sub_category           brand  \\\n",
       "55             Beauty & Hygiene               Skin Care           TJORI   \n",
       "59         Cleaning & Household              Stationery      Prozo Plus   \n",
       "65             Beauty & Hygiene               Skin Care           TJORI   \n",
       "68     Foodgrains, Oil & Masala        Masalas & Spices         Earthon   \n",
       "69       Kitchen, Garden & Pets  Pet Food & Accessories         Glenand   \n",
       "...                         ...                     ...             ...   \n",
       "27509      Gourmet & World Food   Chocolates & Biscuits            Kerk   \n",
       "27511      Cleaning & Household    All Purpose Cleaners             365   \n",
       "27514          Beauty & Hygiene       Fragrances & Deos  Skinn by Titan   \n",
       "27530    Kitchen, Garden & Pets  Pet Food & Accessories    Captain Zack   \n",
       "27531      Gourmet & World Food          Dairy & Cheese     Haagen-Dazs   \n",
       "\n",
       "       sale_price  market_price                       type  rating  \\\n",
       "55          299.4         499.0                  Face Care     NaN   \n",
       "59          399.0         399.0  Notebooks, Files, Folders     NaN   \n",
       "65          269.4         449.0                  Face Care     NaN   \n",
       "68           72.0          72.0               Whole Spices     NaN   \n",
       "69          840.0         840.0      Pet Collars & Leashes     NaN   \n",
       "...           ...           ...                        ...     ...   \n",
       "27509       150.0         150.0   Cookies, Biscotti, Wafer     NaN   \n",
       "27511       449.0         449.0          Imported Cleaners     NaN   \n",
       "27514      1615.5        1795.0                    Perfume     NaN   \n",
       "27530        99.0          99.0    Pet Cleaning & Grooming     NaN   \n",
       "27531       225.0         225.0          Gourmet Ice Cream     NaN   \n",
       "\n",
       "                                             description  Discount  \n",
       "55     The soothing feel of cucumber meets the gentle...     199.6  \n",
       "59     A5 Size (210x150mm) \\n192 Pages Premium Natura...       0.0  \n",
       "65     A nourishing face pack that removes tan and br...     179.6  \n",
       "68     Earthon's Ajwain is Best quality, organically ...       0.0  \n",
       "69     These are soft padded harness for your active ...       0.0  \n",
       "...                                                  ...       ...  \n",
       "27509  Kerk Biscuits-has been a household name synony...       0.0  \n",
       "27511  Mightier than the pen. The pen may be mightier...       0.0  \n",
       "27514  VERGE for men paints a picture of a classy out...     179.5  \n",
       "27530  1) No Rinse Defence Against Ticks and Fleas: C...       0.0  \n",
       "27531  Some things are so good in their simplest form...       0.0  \n",
       "\n",
       "[8636 rows x 10 columns]"
      ]
     },
     "execution_count": 49,
     "metadata": {},
     "output_type": "execute_result"
    }
   ],
   "source": [
    "df[df['rating'].isnull()]"
   ]
  },
  {
   "cell_type": "code",
   "execution_count": 51,
   "id": "588a6050-3dce-45e9-b415-859b635e27f4",
   "metadata": {},
   "outputs": [
    {
     "data": {
      "text/plain": [
       "<Axes: xlabel='sale_price'>"
      ]
     },
     "execution_count": 51,
     "metadata": {},
     "output_type": "execute_result"
    },
    {
     "data": {
      "image/png": "[encoded data removed]",
      "text/plain": [
       "<Figure size 640x480 with 1 Axes>"
      ]
     },
     "metadata": {},
     "output_type": "display_data"
    }
   ],
   "source": [
    "sns.boxplot(df.sale_price,orient='h')"
   ]
  },
  {
   "cell_type": "code",
   "execution_count": 53,
   "id": "058f173f-e157-49ce-893c-8bd4611d0507",
   "metadata": {},
   "outputs": [
    {
     "data": {
      "text/html": [
       "<div>\n",
       "<style scoped>\n",
       "    .dataframe tbody tr th:only-of-type {\n",
       "        vertical-align: middle;\n",
       "    }\n",
       "\n",
       "    .dataframe tbody tr th {\n",
       "        vertical-align: top;\n",
       "    }\n",
       "\n",
       "    .dataframe thead th {\n",
       "        text-align: right;\n",
       "    }\n",
       "</style>\n",
       "<table border=\"1\" class=\"dataframe\">\n",
       "  <thead>\n",
       "    <tr style=\"text-align: right;\">\n",
       "      <th></th>\n",
       "      <th>product</th>\n",
       "      <th>category</th>\n",
       "      <th>sub_category</th>\n",
       "      <th>brand</th>\n",
       "      <th>sale_price</th>\n",
       "      <th>market_price</th>\n",
       "      <th>type</th>\n",
       "      <th>rating</th>\n",
       "      <th>description</th>\n",
       "      <th>Discount</th>\n",
       "    </tr>\n",
       "  </thead>\n",
       "  <tbody>\n",
       "    <tr>\n",
       "      <th>248</th>\n",
       "      <td>4mm Aluminium Induction Base Chapati Roti Tawa...</td>\n",
       "      <td>Kitchen, Garden &amp; Pets</td>\n",
       "      <td>Cookware &amp; Non Stick</td>\n",
       "      <td>HAZEL</td>\n",
       "      <td>111649.0</td>\n",
       "      <td>1289.0</td>\n",
       "      <td>Tawa &amp; Sauce Pan</td>\n",
       "      <td>NaN</td>\n",
       "      <td>Hazel Aluminium Tawa has an ergonomic design f...</td>\n",
       "      <td>-110360.0</td>\n",
       "    </tr>\n",
       "    <tr>\n",
       "      <th>436</th>\n",
       "      <td>Balloon - Polka Dot, 12 Inch</td>\n",
       "      <td>Cleaning &amp; Household</td>\n",
       "      <td>Party &amp; Festive Needs</td>\n",
       "      <td>B Vishal</td>\n",
       "      <td>88899.0</td>\n",
       "      <td>129.0</td>\n",
       "      <td>Caps, Balloons &amp; Candles</td>\n",
       "      <td>3.9</td>\n",
       "      <td>Whether it is a party in the office, a Christm...</td>\n",
       "      <td>-88770.0</td>\n",
       "    </tr>\n",
       "    <tr>\n",
       "      <th>1249</th>\n",
       "      <td>Beard Kit</td>\n",
       "      <td>Beauty &amp; Hygiene</td>\n",
       "      <td>Men's Grooming</td>\n",
       "      <td>Uncle Tony</td>\n",
       "      <td>112475.0</td>\n",
       "      <td>3300.0</td>\n",
       "      <td>Combos &amp; Gift Sets</td>\n",
       "      <td>NaN</td>\n",
       "      <td>The combination of a beard oil, a beard wash, ...</td>\n",
       "      <td>-109175.0</td>\n",
       "    </tr>\n",
       "  </tbody>\n",
       "</table>\n",
       "</div>"
      ],
      "text/plain": [
       "                                                product  \\\n",
       "248   4mm Aluminium Induction Base Chapati Roti Tawa...   \n",
       "436                        Balloon - Polka Dot, 12 Inch   \n",
       "1249                                          Beard Kit   \n",
       "\n",
       "                    category           sub_category       brand  sale_price  \\\n",
       "248   Kitchen, Garden & Pets   Cookware & Non Stick       HAZEL    111649.0   \n",
       "436     Cleaning & Household  Party & Festive Needs    B Vishal     88899.0   \n",
       "1249        Beauty & Hygiene         Men's Grooming  Uncle Tony    112475.0   \n",
       "\n",
       "      market_price                      type  rating  \\\n",
       "248         1289.0          Tawa & Sauce Pan     NaN   \n",
       "436          129.0  Caps, Balloons & Candles     3.9   \n",
       "1249        3300.0        Combos & Gift Sets     NaN   \n",
       "\n",
       "                                            description  Discount  \n",
       "248   Hazel Aluminium Tawa has an ergonomic design f... -110360.0  \n",
       "436   Whether it is a party in the office, a Christm...  -88770.0  \n",
       "1249  The combination of a beard oil, a beard wash, ... -109175.0  "
      ]
     },
     "execution_count": 53,
     "metadata": {},
     "output_type": "execute_result"
    }
   ],
   "source": [
    "df[df.sale_price > 80000]"
   ]
  },
  {
   "cell_type": "code",
   "execution_count": 55,
   "id": "a82dc549-ce74-4c02-9385-41bb036236b3",
   "metadata": {},
   "outputs": [],
   "source": [
    "df.loc[[248,436,1249],'sale_price'] = df.loc[[248,436,1249],'market_price']"
   ]
  },
  {
   "cell_type": "code",
   "execution_count": 57,
   "id": "9faefadd-6502-4b43-ba34-5b3f6bb2012d",
   "metadata": {},
   "outputs": [
    {
     "data": {
      "text/plain": [
       "<Axes: xlabel='sale_price'>"
      ]
     },
     "execution_count": 57,
     "metadata": {},
     "output_type": "execute_result"
    },
    {
     "data": {
      "image/png": "[encoded data removed]",
      "text/plain": [
       "<Figure size 640x480 with 1 Axes>"
      ]
     },
     "metadata": {},
     "output_type": "display_data"
    }
   ],
   "source": [
    "sns.boxplot(df.sale_price,orient='h')"
   ]
  },
  {
   "cell_type": "code",
   "execution_count": 58,
   "id": "1e89fede-995a-4d06-a7c1-b7b4d351e884",
   "metadata": {},
   "outputs": [
    {
     "data": {
      "text/html": [
       "<div>\n",
       "<style scoped>\n",
       "    .dataframe tbody tr th:only-of-type {\n",
       "        vertical-align: middle;\n",
       "    }\n",
       "\n",
       "    .dataframe tbody tr th {\n",
       "        vertical-align: top;\n",
       "    }\n",
       "\n",
       "    .dataframe thead th {\n",
       "        text-align: right;\n",
       "    }\n",
       "</style>\n",
       "<table border=\"1\" class=\"dataframe\">\n",
       "  <thead>\n",
       "    <tr style=\"text-align: right;\">\n",
       "      <th></th>\n",
       "      <th>product</th>\n",
       "      <th>category</th>\n",
       "      <th>sub_category</th>\n",
       "      <th>brand</th>\n",
       "      <th>sale_price</th>\n",
       "      <th>market_price</th>\n",
       "      <th>type</th>\n",
       "      <th>rating</th>\n",
       "      <th>description</th>\n",
       "      <th>Discount</th>\n",
       "    </tr>\n",
       "  </thead>\n",
       "  <tbody>\n",
       "    <tr>\n",
       "      <th>288</th>\n",
       "      <td>Arrabbiata Tomato Pasta Sauce With Chilli</td>\n",
       "      <td>Gourmet &amp; World Food</td>\n",
       "      <td>Sauces, Spreads &amp; Dips</td>\n",
       "      <td>Montanini</td>\n",
       "      <td>22325.0</td>\n",
       "      <td>325.0</td>\n",
       "      <td>Mustard &amp; Cheese Sauces</td>\n",
       "      <td>5.0</td>\n",
       "      <td>Unknown</td>\n",
       "      <td>-22000.0</td>\n",
       "    </tr>\n",
       "    <tr>\n",
       "      <th>21761</th>\n",
       "      <td>Pet Food - N&amp;D Team Breeder Puppy Top Farmina</td>\n",
       "      <td>Kitchen, Garden &amp; Pets</td>\n",
       "      <td>Pet Food &amp; Accessories</td>\n",
       "      <td>Farmina</td>\n",
       "      <td>10090.0</td>\n",
       "      <td>10090.0</td>\n",
       "      <td>Pet Meals &amp; Treats</td>\n",
       "      <td>NaN</td>\n",
       "      <td>Dog Food Adult Health Nutritional Dog Food.</td>\n",
       "      <td>0.0</td>\n",
       "    </tr>\n",
       "    <tr>\n",
       "      <th>25301</th>\n",
       "      <td>Bravura Clipper</td>\n",
       "      <td>Kitchen, Garden &amp; Pets</td>\n",
       "      <td>Pet Food &amp; Accessories</td>\n",
       "      <td>Wahl</td>\n",
       "      <td>12500.0</td>\n",
       "      <td>12500.0</td>\n",
       "      <td>Pet Cleaning &amp; Grooming</td>\n",
       "      <td>NaN</td>\n",
       "      <td>The bravura clipper is a must-have clipper for...</td>\n",
       "      <td>0.0</td>\n",
       "    </tr>\n",
       "  </tbody>\n",
       "</table>\n",
       "</div>"
      ],
      "text/plain": [
       "                                             product                category  \\\n",
       "288        Arrabbiata Tomato Pasta Sauce With Chilli    Gourmet & World Food   \n",
       "21761  Pet Food - N&D Team Breeder Puppy Top Farmina  Kitchen, Garden & Pets   \n",
       "25301                                Bravura Clipper  Kitchen, Garden & Pets   \n",
       "\n",
       "                 sub_category      brand  sale_price  market_price  \\\n",
       "288    Sauces, Spreads & Dips  Montanini     22325.0         325.0   \n",
       "21761  Pet Food & Accessories    Farmina     10090.0       10090.0   \n",
       "25301  Pet Food & Accessories       Wahl     12500.0       12500.0   \n",
       "\n",
       "                          type  rating  \\\n",
       "288    Mustard & Cheese Sauces     5.0   \n",
       "21761       Pet Meals & Treats     NaN   \n",
       "25301  Pet Cleaning & Grooming     NaN   \n",
       "\n",
       "                                             description  Discount  \n",
       "288                                              Unknown  -22000.0  \n",
       "21761        Dog Food Adult Health Nutritional Dog Food.       0.0  \n",
       "25301  The bravura clipper is a must-have clipper for...       0.0  "
      ]
     },
     "execution_count": 58,
     "metadata": {},
     "output_type": "execute_result"
    }
   ],
   "source": [
    "df[df.sale_price > 10000]"
   ]
  },
  {
   "cell_type": "code",
   "execution_count": 61,
   "id": "dc24ed97-4f4a-426f-8e1e-81a1b4922cd6",
   "metadata": {},
   "outputs": [],
   "source": [
    "df.loc[[288],'sale_price'] = df.loc[[288],'market_price']"
   ]
  },
  {
   "cell_type": "code",
   "execution_count": 63,
   "id": "44fab1f8-b683-4f13-b30f-b0adb4783775",
   "metadata": {},
   "outputs": [
    {
     "data": {
      "text/html": [
       "<div>\n",
       "<style scoped>\n",
       "    .dataframe tbody tr th:only-of-type {\n",
       "        vertical-align: middle;\n",
       "    }\n",
       "\n",
       "    .dataframe tbody tr th {\n",
       "        vertical-align: top;\n",
       "    }\n",
       "\n",
       "    .dataframe thead th {\n",
       "        text-align: right;\n",
       "    }\n",
       "</style>\n",
       "<table border=\"1\" class=\"dataframe\">\n",
       "  <thead>\n",
       "    <tr style=\"text-align: right;\">\n",
       "      <th></th>\n",
       "      <th>product</th>\n",
       "      <th>category</th>\n",
       "      <th>sub_category</th>\n",
       "      <th>brand</th>\n",
       "      <th>sale_price</th>\n",
       "      <th>market_price</th>\n",
       "      <th>type</th>\n",
       "      <th>rating</th>\n",
       "      <th>description</th>\n",
       "      <th>Discount</th>\n",
       "    </tr>\n",
       "  </thead>\n",
       "  <tbody>\n",
       "    <tr>\n",
       "      <th>12669</th>\n",
       "      <td>Epilator SE9-9961 Legs-Body-Face</td>\n",
       "      <td>Beauty &amp; Hygiene</td>\n",
       "      <td>Feminine Hygiene</td>\n",
       "      <td>Braun</td>\n",
       "      <td>8184.44</td>\n",
       "      <td>10769.0</td>\n",
       "      <td>Hair Removal</td>\n",
       "      <td>NaN</td>\n",
       "      <td>This cordless epilator has a sonic exfoliation...</td>\n",
       "      <td>2584.56</td>\n",
       "    </tr>\n",
       "    <tr>\n",
       "      <th>21761</th>\n",
       "      <td>Pet Food - N&amp;D Team Breeder Puppy Top Farmina</td>\n",
       "      <td>Kitchen, Garden &amp; Pets</td>\n",
       "      <td>Pet Food &amp; Accessories</td>\n",
       "      <td>Farmina</td>\n",
       "      <td>10090.00</td>\n",
       "      <td>10090.0</td>\n",
       "      <td>Pet Meals &amp; Treats</td>\n",
       "      <td>NaN</td>\n",
       "      <td>Dog Food Adult Health Nutritional Dog Food.</td>\n",
       "      <td>0.00</td>\n",
       "    </tr>\n",
       "    <tr>\n",
       "      <th>23082</th>\n",
       "      <td>Gas Stove-4 Burner Royale Plus Schott Glass, B...</td>\n",
       "      <td>Kitchen, Garden &amp; Pets</td>\n",
       "      <td>Cookware &amp; Non Stick</td>\n",
       "      <td>Prestige</td>\n",
       "      <td>7999.00</td>\n",
       "      <td>12245.0</td>\n",
       "      <td>Gas Stove</td>\n",
       "      <td>NaN</td>\n",
       "      <td>Prestige Royale Plus Gas Stove. Add a Touch of...</td>\n",
       "      <td>4246.00</td>\n",
       "    </tr>\n",
       "    <tr>\n",
       "      <th>25301</th>\n",
       "      <td>Bravura Clipper</td>\n",
       "      <td>Kitchen, Garden &amp; Pets</td>\n",
       "      <td>Pet Food &amp; Accessories</td>\n",
       "      <td>Wahl</td>\n",
       "      <td>12500.00</td>\n",
       "      <td>12500.0</td>\n",
       "      <td>Pet Cleaning &amp; Grooming</td>\n",
       "      <td>NaN</td>\n",
       "      <td>The bravura clipper is a must-have clipper for...</td>\n",
       "      <td>0.00</td>\n",
       "    </tr>\n",
       "  </tbody>\n",
       "</table>\n",
       "</div>"
      ],
      "text/plain": [
       "                                                 product  \\\n",
       "12669                   Epilator SE9-9961 Legs-Body-Face   \n",
       "21761      Pet Food - N&D Team Breeder Puppy Top Farmina   \n",
       "23082  Gas Stove-4 Burner Royale Plus Schott Glass, B...   \n",
       "25301                                    Bravura Clipper   \n",
       "\n",
       "                     category            sub_category     brand  sale_price  \\\n",
       "12669        Beauty & Hygiene        Feminine Hygiene     Braun     8184.44   \n",
       "21761  Kitchen, Garden & Pets  Pet Food & Accessories   Farmina    10090.00   \n",
       "23082  Kitchen, Garden & Pets    Cookware & Non Stick  Prestige     7999.00   \n",
       "25301  Kitchen, Garden & Pets  Pet Food & Accessories      Wahl    12500.00   \n",
       "\n",
       "       market_price                     type  rating  \\\n",
       "12669       10769.0             Hair Removal     NaN   \n",
       "21761       10090.0       Pet Meals & Treats     NaN   \n",
       "23082       12245.0                Gas Stove     NaN   \n",
       "25301       12500.0  Pet Cleaning & Grooming     NaN   \n",
       "\n",
       "                                             description  Discount  \n",
       "12669  This cordless epilator has a sonic exfoliation...   2584.56  \n",
       "21761        Dog Food Adult Health Nutritional Dog Food.      0.00  \n",
       "23082  Prestige Royale Plus Gas Stove. Add a Touch of...   4246.00  \n",
       "25301  The bravura clipper is a must-have clipper for...      0.00  "
      ]
     },
     "execution_count": 63,
     "metadata": {},
     "output_type": "execute_result"
    }
   ],
   "source": [
    "df[df.sale_price > 7500]"
   ]
  },
  {
   "cell_type": "code",
   "execution_count": 65,
   "id": "3ea7525f-aebb-4878-9f13-60aae5ff48bd",
   "metadata": {},
   "outputs": [
    {
     "data": {
      "text/plain": [
       "<Axes: xlabel='sale_price'>"
      ]
     },
     "execution_count": 65,
     "metadata": {},
     "output_type": "execute_result"
    },
    {
     "data": {
      "image/png": "[encoded data removed]",
      "text/plain": [
       "<Figure size 640x480 with 1 Axes>"
      ]
     },
     "metadata": {},
     "output_type": "display_data"
    }
   ],
   "source": [
    "sns.boxplot(df.sale_price,orient='h')"
   ]
  },
  {
   "cell_type": "code",
   "execution_count": 67,
   "id": "6102a1d9-137d-4e50-b087-5fc0a910ecf0",
   "metadata": {},
   "outputs": [
    {
     "data": {
      "text/plain": [
       "<Axes: xlabel='market_price'>"
      ]
     },
     "execution_count": 67,
     "metadata": {},
     "output_type": "execute_result"
    },
    {
     "data": {
      "image/png": "[encoded data removed]",
      "text/plain": [
       "<Figure size 640x480 with 1 Axes>"
      ]
     },
     "metadata": {},
     "output_type": "display_data"
    }
   ],
   "source": [
    "sns.boxplot(df.market_price,orient='h')"
   ]
  },
  {
   "cell_type": "code",
   "execution_count": 69,
   "id": "d5c5705e-0b27-415d-ab07-84494ef8b9ad",
   "metadata": {},
   "outputs": [
    {
     "data": {
      "text/plain": [
       "<Axes: xlabel='Discount'>"
      ]
     },
     "execution_count": 69,
     "metadata": {},
     "output_type": "execute_result"
    },
    {
     "data": {
      "image/png": "[encoded data removed]",
      "text/plain": [
       "<Figure size 640x480 with 1 Axes>"
      ]
     },
     "metadata": {},
     "output_type": "display_data"
    }
   ],
   "source": [
    "sns.boxplot(df.Discount,orient='h')"
   ]
  },
  {
   "cell_type": "code",
   "execution_count": 71,
   "id": "b7b8be95-6fbe-4e05-9b1e-aa5e1e6a6785",
   "metadata": {},
   "outputs": [
    {
     "data": {
      "text/plain": [
       "4.1"
      ]
     },
     "execution_count": 71,
     "metadata": {},
     "output_type": "execute_result"
    }
   ],
   "source": [
    "df['rating'].median()"
   ]
  },
  {
   "cell_type": "code",
   "execution_count": 73,
   "id": "28748add-bb08-4a83-b5bb-05083d979a61",
   "metadata": {},
   "outputs": [],
   "source": [
    "df['rating'] = df['rating'].fillna(3.0)"
   ]
  },
  {
   "cell_type": "code",
   "execution_count": 75,
   "id": "24e64afb-8c63-4f30-9ba6-32b861417dbd",
   "metadata": {},
   "outputs": [
    {
     "data": {
      "text/plain": [
       "product         0\n",
       "category        0\n",
       "sub_category    0\n",
       "brand           0\n",
       "sale_price      0\n",
       "market_price    0\n",
       "type            0\n",
       "rating          0\n",
       "description     0\n",
       "Discount        6\n",
       "dtype: int64"
      ]
     },
     "execution_count": 75,
     "metadata": {},
     "output_type": "execute_result"
    }
   ],
   "source": [
    "df.isnull().sum()"
   ]
  },
  {
   "cell_type": "markdown",
   "id": "4eb419ee-c107-4778-89fe-c3c4b24d9cf1",
   "metadata": {},
   "source": [
    "# Top 10 Most Frequent Products"
   ]
  },
  {
   "cell_type": "code",
   "execution_count": 78,
   "id": "a0d30ac4-48e1-41ae-8cd8-2f76b73ad649",
   "metadata": {},
   "outputs": [
    {
     "data": {
      "image/png": "[encoded data removed]",
      "text/plain": [
       "<Figure size 1000x600 with 1 Axes>"
      ]
     },
     "metadata": {},
     "output_type": "display_data"
    }
   ],
   "source": [
    "plt.figure(figsize=(10, 6))\n",
    "sns.barplot(x=df['product'].value_counts().head(10).values, y=df['product'].value_counts().head(10).index, palette='viridis')\n",
    "plt.title('Top 10 Most Frequent Products')\n",
    "plt.xlabel('Count')\n",
    "plt.ylabel('Product')\n",
    "plt.show()"
   ]
  },
  {
   "cell_type": "markdown",
   "id": "eb28ca05-bde7-41b6-913c-0442c65f177b",
   "metadata": {},
   "source": [
    "- This bar plot shows the top 10 most frequently listed products in the Big Basket dataset. Each bar represents a product and its corresponding frequency in the dataset. This visualization highlights the products that appear most often, suggesting their popularity, high demand, or availability in multiple variants (such as different sizes or packaging). Identifying these frequently listed items provides insight into core products that likely drive a significant portion of customer interest and sales, making them key candidates for marketing focus or stock optimization."
   ]
  },
  {
   "cell_type": "markdown",
   "id": "470f1fed-21c7-409c-b2d2-8da53acd3131",
   "metadata": {},
   "source": [
    "# Top Most Frequent Brands"
   ]
  },
  {
   "cell_type": "code",
   "execution_count": 106,
   "id": "c1deaa38-0ae5-40dd-aefb-0611d46af450",
   "metadata": {},
   "outputs": [
    {
     "data": {
      "image/png": "[encoded data removed]",
      "text/plain": [
       "<Figure size 1000x600 with 1 Axes>"
      ]
     },
     "metadata": {},
     "output_type": "display_data"
    }
   ],
   "source": [
    "plt.figure(figsize=(10, 6))\n",
    "sns.barplot(x=df['brand'].value_counts().head(10).values, y=df['brand'].value_counts().head(10).index, palette='deep')\n",
    "plt.title('Top 10 Most Frequent Brands')\n",
    "plt.xlabel('Product Count')\n",
    "plt.ylabel('Brand')\n",
    "plt.show()"
   ]
  },
  {
   "cell_type": "markdown",
   "id": "c5afb10a-a14f-4088-92fd-8059881ad522",
   "metadata": {},
   "source": [
    "- The bar plot displays the top 10 most frequently appearing brands in the Big Basket dataset. It shows how many products each of these brands has listed, reflecting their presence and popularity on the platform. Brands with higher counts indicate stronger market representation and possibly greater customer preference or trust. This insight helps identify dominant players in the market and can guide strategic decisions related to brand partnerships, inventory management, and targeted promotions.\n",
    "\n"
   ]
  },
  {
   "cell_type": "markdown",
   "id": "62955de6-6cf0-4f0d-a6d1-01f6f54defc9",
   "metadata": {},
   "source": [
    "# Top 10 Brands by Average Sale Price"
   ]
  },
  {
   "cell_type": "code",
   "execution_count": 129,
   "id": "7c1501fb-a309-458f-9c10-3fe13074207e",
   "metadata": {},
   "outputs": [
    {
     "data": {
      "image/png": "[encoded data removed]",
      "text/plain": [
       "<Figure size 1200x600 with 1 Axes>"
      ]
     },
     "metadata": {},
     "output_type": "display_data"
    }
   ],
   "source": [
    "\n",
    "plt.figure(figsize=(12, 6))\n",
    "sns.barplot(x=df.groupby('brand')['sale_price'].mean().sort_values(ascending=False).head(10).values, \n",
    "            y=df.groupby('brand')['sale_price'].mean().sort_values(ascending=False).head(10).index, palette='mako')\n",
    "plt.title('Top 10 Brands by Average Sale Price')\n",
    "plt.xlabel('Average Sale Price')\n",
    "plt.ylabel('Brand')\n",
    "plt.show()"
   ]
  },
  {
   "cell_type": "markdown",
   "id": "48ded52c-7199-42b0-a4bb-46fb2a09a4e1",
   "metadata": {},
   "source": [
    "- The bar plot illustrates the top 10 brands with the highest average sale price in the Big Basket dataset. This visualization reveals which brands tend to offer more premium or higher-priced products on the platform. Brands appearing at the top likely target a market segment willing to pay more, possibly reflecting higher quality, exclusivity, or specialty products. Understanding these pricing trends helps in positioning brands strategically and tailoring marketing efforts for different customer segments."
   ]
  },
  {
   "cell_type": "markdown",
   "id": "6dd2f17a-5b13-4f8e-917f-0d031e0e6b42",
   "metadata": {},
   "source": [
    "# Top 10 Brands by Average Rating"
   ]
  },
  {
   "cell_type": "code",
   "execution_count": 112,
   "id": "d04b85e3-a14a-4309-92df-0850a016ac71",
   "metadata": {},
   "outputs": [
    {
     "data": {
      "image/png": "[encoded data removed]",
      "text/plain": [
       "<Figure size 1200x600 with 1 Axes>"
      ]
     },
     "metadata": {},
     "output_type": "display_data"
    }
   ],
   "source": [
    "plt.figure(figsize=(12, 6))\n",
    "sns.barplot(x=df.groupby('brand')['rating'].mean().sort_values(ascending=False).head(10).values, \n",
    "            y=df.groupby('brand')['rating'].mean().sort_values(ascending=False).head(10).index, palette='flare')\n",
    "plt.title('Top 10 Brands by Average Rating')\n",
    "plt.xlabel('Average Rating')\n",
    "plt.ylabel('Brand')\n",
    "plt.xlim(0, 5)\n",
    "plt.show()"
   ]
  },
  {
   "cell_type": "markdown",
   "id": "de3d03a1-47e3-4309-bf5e-f1b116d8f3ff",
   "metadata": {},
   "source": [
    "- The bar plot showcases the top 10 brands with the highest average customer ratings in the Big Basket dataset. These brands consistently receive positive feedback, indicating strong customer satisfaction and perceived product quality. Brands with higher average ratings are likely trusted by consumers, which can enhance their reputation and influence purchasing decisions. This insight is valuable for highlighting brands that excel in quality and customer experience on the platform."
   ]
  },
  {
   "cell_type": "markdown",
   "id": "fa418744-6b74-41cf-b9c0-54441334b1a4",
   "metadata": {},
   "source": [
    "# Average Sale Price by Category"
   ]
  },
  {
   "cell_type": "code",
   "execution_count": 81,
   "id": "65fb5ff8-41e7-4e43-9464-543916ef9809",
   "metadata": {},
   "outputs": [
    {
     "data": {
      "image/png": "[encoded data removed]",
      "text/plain": [
       "<Figure size 1200x600 with 1 Axes>"
      ]
     },
     "metadata": {},
     "output_type": "display_data"
    }
   ],
   "source": [
    "plt.figure(figsize=(12, 6))\n",
    "sns.barplot(x=df.groupby('category')['sale_price'].mean().sort_values(ascending=False).head(10).values, \n",
    "            y=df.groupby('category')['sale_price'].mean().sort_values(ascending=False).head(10).index, palette='plasma')\n",
    "plt.title('Average Sale Price by Category')\n",
    "plt.xlabel('Average Sale Price')\n",
    "plt.ylabel('Category')\n",
    "plt.show()"
   ]
  },
  {
   "cell_type": "markdown",
   "id": "7d8a9ea8-5c17-4ae1-9558-3bac8937aa7a",
   "metadata": {},
   "source": [
    "- The bar plot highlights the top 10 product categories with the highest average sale prices in the Big Basket dataset. This visualization reveals which categories tend to include more expensive items, potentially reflecting premium quality, specialty products, or bulk packaging within those categories. Understanding these pricing patterns by category helps in identifying high-value segments and can guide pricing strategies, inventory decisions, and targeted marketing efforts."
   ]
  },
  {
   "cell_type": "markdown",
   "id": "8f98d694-edcf-4715-817a-6ebb7e92eb45",
   "metadata": {},
   "source": [
    "# Rating Distribution"
   ]
  },
  {
   "cell_type": "code",
   "execution_count": 84,
   "id": "56aa2834-c30e-4898-bf76-16a4e5319a70",
   "metadata": {},
   "outputs": [
    {
     "data": {
      "image/png": "[encoded data removed]",
      "text/plain": [
       "<Figure size 800x500 with 1 Axes>"
      ]
     },
     "metadata": {},
     "output_type": "display_data"
    }
   ],
   "source": [
    "plt.figure(figsize=(8, 5))\n",
    "sns.histplot(df['rating'], bins=20, kde=True, color='orange')\n",
    "plt.title('Rating Distribution')\n",
    "plt.xlabel('Rating')\n",
    "plt.ylabel('Frequency')\n",
    "plt.show()"
   ]
  },
  {
   "cell_type": "markdown",
   "id": "a38e8e3b-1a12-4c06-8fab-9df5339ba928",
   "metadata": {},
   "source": [
    "- The histogram displays the distribution of product ratings in the Big Basket dataset. The majority of ratings cluster around higher values, indicating that most products receive favorable customer feedback. The smooth kernel density estimate (KDE) line reinforces this trend, showing a clear peak near the higher rating range. This insight suggests overall positive customer satisfaction, although the spread also indicates the presence of some lower-rated products, which could be areas for quality improvement.\n",
    "\n"
   ]
  },
  {
   "cell_type": "markdown",
   "id": "25996137-ea91-4b61-9a0e-60f4b66a32dd",
   "metadata": {},
   "source": [
    "# Sale Price vs Market Price"
   ]
  },
  {
   "cell_type": "code",
   "execution_count": 87,
   "id": "3b8a5fa3-780b-4cd8-a49a-d51b6f18c51e",
   "metadata": {},
   "outputs": [
    {
     "data": {
      "image/png": "[encoded data removed]",
      "text/plain": [
       "<Figure size 800x600 with 1 Axes>"
      ]
     },
     "metadata": {},
     "output_type": "display_data"
    }
   ],
   "source": [
    "plt.figure(figsize=(8, 6))\n",
    "sns.scatterplot(x='market_price', y='sale_price', data=df, alpha=0.6)\n",
    "plt.title('Sale Price vs Market Price')\n",
    "plt.xlabel('Market Price')\n",
    "plt.ylabel('Sale Price')\n",
    "plt.show()"
   ]
  },
  {
   "cell_type": "markdown",
   "id": "2572c929-ad3c-4b9d-bf64-e0b5b56d67a4",
   "metadata": {},
   "source": [
    "- The scatter plot illustrates the relationship between market price and sale price for products in the Big Basket dataset. Most points lie close to the diagonal, indicating that sale prices generally align with market prices. However, some points fall below the diagonal, showing instances where products are sold at a discount compared to their market price. This visualization highlights pricing strategies, including discounts or promotions, and helps identify how closely sale prices track market prices across the product range.\n",
    "\n"
   ]
  },
  {
   "cell_type": "markdown",
   "id": "43e1490d-a29f-4ee1-b8ad-1fcdbeea283e",
   "metadata": {},
   "source": [
    "# Average Rating by Category"
   ]
  },
  {
   "cell_type": "code",
   "execution_count": 90,
   "id": "96100884-adef-4373-b618-bd3ae47e8d8a",
   "metadata": {},
   "outputs": [
    {
     "data": {
      "image/png": "[encoded data removed]",
      "text/plain": [
       "<Figure size 1200x600 with 1 Axes>"
      ]
     },
     "metadata": {},
     "output_type": "display_data"
    }
   ],
   "source": [
    "plt.figure(figsize=(12, 6))\n",
    "sns.barplot(x=df.groupby('category')['rating'].mean().sort_values(ascending=False).values, \n",
    "            y=df.groupby('category')['rating'].mean().sort_values(ascending=False).index, palette='magma')\n",
    "plt.title('Average Rating by Category')\n",
    "plt.xlabel('Average Rating')\n",
    "plt.ylabel('Category')\n",
    "plt.show()"
   ]
  },
  {
   "cell_type": "markdown",
   "id": "b756fbfd-84cd-4bd6-9b46-0ab9ed2af627",
   "metadata": {},
   "source": [
    "- The bar plot displays the average customer ratings across different product categories in the Big Basket dataset. It reveals which categories generally receive higher customer satisfaction, indicating better perceived quality or user experience within those segments. Categories with higher average ratings can be considered strengths for the platform, while those with lower ratings might need attention to improve product offerings or customer satisfaction."
   ]
  },
  {
   "cell_type": "markdown",
   "id": "bfdbf4f8-74e2-4056-93ea-447a84e20975",
   "metadata": {},
   "source": [
    "# Top 10 Brands by Average Discount"
   ]
  },
  {
   "cell_type": "code",
   "execution_count": 117,
   "id": "94214e0f-99eb-473a-a212-1872c5800e7d",
   "metadata": {},
   "outputs": [
    {
     "data": {
      "image/png": "[encoded data removed]",
      "text/plain": [
       "<Figure size 1200x600 with 1 Axes>"
      ]
     },
     "metadata": {},
     "output_type": "display_data"
    }
   ],
   "source": [
    "\n",
    "\n",
    "plt.figure(figsize=(12, 6))\n",
    "sns.barplot(x=df.groupby('brand')['Discount'].mean().sort_values(ascending=False).head(10).values, \n",
    "            y=df.groupby('brand')['Discount'].mean().sort_values(ascending=False).head(10).index, palette='coolwarm')\n",
    "plt.title('Top 10 Brands by Average Discount')\n",
    "plt.xlabel('Average Discount')\n",
    "plt.ylabel('Brand')\n",
    "plt.show()"
   ]
  },
  {
   "cell_type": "markdown",
   "id": "077e5b8b-7bff-4244-890f-c3a39161f137",
   "metadata": {},
   "source": [
    "- The bar plot highlights the top 10 brands offering the highest average discounts on their products in the Big Basket dataset. These brands tend to provide more attractive price reductions, which could be a strategy to boost sales, clear inventory, or attract price-sensitive customers. Understanding which brands offer the greatest discounts helps identify competitive pricing tactics and opportunities for promotions that may drive customer engagement and increase market share.\n",
    "\n"
   ]
  },
  {
   "cell_type": "markdown",
   "id": "f42d34ca-0d42-4ca9-b861-60410b4fa135",
   "metadata": {},
   "source": [
    "# Heatmap of Correlation"
   ]
  },
  {
   "cell_type": "code",
   "execution_count": 102,
   "id": "c9f448a4-eb0f-4555-87de-b75d6921e42d",
   "metadata": {},
   "outputs": [
    {
     "data": {
      "image/png": "[encoded data removed]",
      "text/plain": [
       "<Figure size 800x600 with 2 Axes>"
      ]
     },
     "metadata": {},
     "output_type": "display_data"
    }
   ],
   "source": [
    "\n",
    "plt.figure(figsize=(8, 6))\n",
    "sns.heatmap(df[['sale_price', 'market_price', 'rating']].corr(), annot=True, cmap='coolwarm', fmt=\".2f\", linewidths=0.5)\n",
    "plt.title('Correlation Heatmap of Sale Price, Market Price and Rating')\n",
    "plt.show()"
   ]
  },
  {
   "cell_type": "markdown",
   "id": "20a5e60e-872d-40a2-b88f-698b46eeb180",
   "metadata": {},
   "source": [
    "- The heatmap displays the correlation coefficients among sale price, market price, and rating in the Big Basket dataset. It shows a strong positive correlation between sale price and market price, indicating that higher market prices generally correspond to higher sale prices. The correlations between rating and the two price variables are weaker, suggesting that customer ratings are not strongly influenced by price. This insight implies that while pricing aligns closely between sale and market values, product ratings depend on other factors beyond just price.\n",
    "\n"
   ]
  },
  {
   "cell_type": "markdown",
   "id": "e5ce3098-77a0-4bb7-872e-cfbf149f6ff0",
   "metadata": {},
   "source": [
    "# Conlusion\n",
    "- This project provided a comprehensive exploratory analysis of Big Basket’s product dataset, revealing valuable insights into product distribution, pricing, ratings, and brand performance. We identified the most frequent products and dominant brands, uncovered pricing trends across categories and brands, and highlighted customer satisfaction through rating distributions. The strong correlation between market and sale prices confirmed consistent pricing strategies, while variations in discounts and ratings offered clues about competitive positioning and product quality. Overall, these insights can support data-driven decisions to optimize inventory, pricing, and marketing strategies, ultimately enhancing customer experience and sales performance on the platform.\n",
    "\n"
   ]
  },
  {
   "cell_type": "code",
   "execution_count": null,
   "id": "54a3c06f-da5a-4860-89de-9cceba1d3a96",
   "metadata": {},
   "outputs": [],
   "source": []
  },
  {
   "cell_type": "code",
   "execution_count": null,
   "id": "d2fa08b6-4836-4e99-88f1-189b3f8f21b1",
   "metadata": {},
   "outputs": [],
   "source": []
  },
  {
   "cell_type": "code",
   "execution_count": null,
   "id": "c0cb5bc8-152e-4752-89eb-bbfc3a257bb3",
   "metadata": {},
   "outputs": [],
   "source": []
  },
  {
   "cell_type": "code",
   "execution_count": null,
   "id": "ceb78f44-fb83-4400-8c32-136eb9566f97",
   "metadata": {},
   "outputs": [],
   "source": []
  },
  {
   "cell_type": "code",
   "execution_count": null,
   "id": "6a7bfa63-7297-4f3c-a1e1-5331bc0506b4",
   "metadata": {},
   "outputs": [],
   "source": []
  },
  {
   "cell_type": "code",
   "execution_count": null,
   "id": "4895447b-f8da-4fe0-99c9-2cab38121ce1",
   "metadata": {},
   "outputs": [],
   "source": []
  },
  {
   "cell_type": "code",
   "execution_count": null,
   "id": "0a466fd4-11d5-4015-86d7-3b31e91354c7",
   "metadata": {},
   "outputs": [],
   "source": []
  },
  {
   "cell_type": "code",
   "execution_count": null,
   "id": "2a1e85f8-aa2b-4707-b7a9-efd077c07e52",
   "metadata": {},
   "outputs": [],
   "source": []
  },
  {
   "cell_type": "code",
   "execution_count": null,
   "id": "32c373ab-0aa6-4c04-b419-8570d67f4553",
   "metadata": {},
   "outputs": [],
   "source": []
  },
  {
   "cell_type": "code",
   "execution_count": null,
   "id": "5ffdd111-aa60-4284-bf10-16fd7c8aa3e2",
   "metadata": {},
   "outputs": [],
   "source": []
  },
  {
   "cell_type": "code",
   "execution_count": null,
   "id": "e06d89b9-2cca-4238-b10a-85887cf0038a",
   "metadata": {},
   "outputs": [],
   "source": []
  },
  {
   "cell_type": "code",
   "execution_count": null,
   "id": "0e507971-8802-491b-a055-893bd94269ec",
   "metadata": {},
   "outputs": [],
   "source": []
  },
  {
   "cell_type": "code",
   "execution_count": null,
   "id": "b81aafe1-258c-4430-bc16-cd5608c92310",
   "metadata": {},
   "outputs": [],
   "source": []
  },
  {
   "cell_type": "code",
   "execution_count": null,
   "id": "0b3f1fe3-c67c-42ba-b947-758599e74192",
   "metadata": {},
   "outputs": [],
   "source": []
  },
  {
   "cell_type": "code",
   "execution_count": null,
   "id": "30b5a999-19bc-4e51-9feb-63fdf18f6df6",
   "metadata": {},
   "outputs": [],
   "source": []
  }
 ],
 "metadata": {
  "kernelspec": {
   "display_name": "Python [conda env:base] *",
   "language": "python",
   "name": "conda-base-py"
  },
  "language_info": {
   "codemirror_mode": {
    "name": "ipython",
    "version": 3
   },
   "file_extension": ".py",
   "mimetype": "text/x-python",
   "name": "python",
   "nbconvert_exporter": "python",
   "pygments_lexer": "ipython3",
   "version": "3.12.7"
  }
 },
 "nbformat": 4,
 "nbformat_minor": 5
}
